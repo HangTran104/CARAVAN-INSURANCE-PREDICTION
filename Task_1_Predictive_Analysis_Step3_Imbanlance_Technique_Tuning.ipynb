{
 "cells": [
  {
   "cell_type": "markdown",
   "id": "4685d4c0-7251-403d-879d-fde41cca7937",
   "metadata": {},
   "source": [
    "# IMPORT LIBRARIES"
   ]
  },
  {
   "cell_type": "code",
   "execution_count": 62,
   "id": "26d8dade-2850-4be5-b9ba-c3deaaed980f",
   "metadata": {},
   "outputs": [],
   "source": [
    "import pandas as pd\n",
    "import numpy as np\n",
    "from sklearn.model_selection import train_test_split\n",
    "import matplotlib.pyplot as plt\n",
    "import seaborn as sns\n",
    "\n",
    "from sklearn.pipeline import Pipeline\n",
    "from sklearn.datasets import make_classification\n",
    "from sklearn.preprocessing import StandardScaler\n",
    "from sklearn.model_selection import GridSearchCV\n",
    "from sklearn.svm import SVC\n",
    "from sklearn.naive_bayes import GaussianNB, BernoulliNB\n",
    "from sklearn.neighbors import KNeighborsClassifier\n",
    "from sklearn.linear_model import LogisticRegression, RidgeClassifierCV,RidgeClassifier\n",
    "from sklearn.ensemble import RandomForestClassifier, AdaBoostClassifier\n",
    "from sklearn.feature_selection import SelectKBest, mutual_info_classif\n",
    "from sklearn.metrics import precision_score, recall_score, f1_score, accuracy_score, plot_roc_curve,roc_auc_score,roc_curve, precision_recall_curve\n",
    "from sklearn.metrics import classification_report\n",
    "from lightgbm import LGBMClassifier\n",
    "# from sklearn.metrics import roc_curve\n",
    "# pd.options.plotting.backend  = \"plotly\""
   ]
  },
  {
   "cell_type": "markdown",
   "id": "67aac659-93f5-4379-b9a0-9ebc9007899f",
   "metadata": {},
   "source": [
    "# LOAD DATASET"
   ]
  },
  {
   "cell_type": "code",
   "execution_count": 63,
   "id": "a4612f99-fb49-4c33-b870-0cd36fef18cf",
   "metadata": {},
   "outputs": [],
   "source": [
    "trainset = pd.read_csv('data/cleaned_df_train.csv')"
   ]
  },
  {
   "cell_type": "code",
   "execution_count": 64,
   "id": "f717c0ab-9da8-4416-9b49-0ee18cd0cbad",
   "metadata": {},
   "outputs": [
    {
     "data": {
      "text/html": [
       "<div>\n",
       "<style scoped>\n",
       "    .dataframe tbody tr th:only-of-type {\n",
       "        vertical-align: middle;\n",
       "    }\n",
       "\n",
       "    .dataframe tbody tr th {\n",
       "        vertical-align: top;\n",
       "    }\n",
       "\n",
       "    .dataframe thead th {\n",
       "        text-align: right;\n",
       "    }\n",
       "</style>\n",
       "<table border=\"1\" class=\"dataframe\">\n",
       "  <thead>\n",
       "    <tr style=\"text-align: right;\">\n",
       "      <th></th>\n",
       "      <th>Unnamed: 0</th>\n",
       "      <th>ID</th>\n",
       "      <th>Customer Subtype</th>\n",
       "      <th>Number of houses</th>\n",
       "      <th>Avg size household</th>\n",
       "      <th>Avg age</th>\n",
       "      <th>Customer main type</th>\n",
       "      <th>Roman catholic</th>\n",
       "      <th>Protestant</th>\n",
       "      <th>Other relition</th>\n",
       "      <th>...</th>\n",
       "      <th>Number of private accident insurance policies</th>\n",
       "      <th>Number of family accidents insurance policies</th>\n",
       "      <th>Number of disability insurance policies</th>\n",
       "      <th>Number of fire policies</th>\n",
       "      <th>Number of surfboard policies</th>\n",
       "      <th>Number of boat policies</th>\n",
       "      <th>Number of bicycle policies</th>\n",
       "      <th>Number of property insurance policies</th>\n",
       "      <th>Number of social security insurance policies</th>\n",
       "      <th>Target</th>\n",
       "    </tr>\n",
       "  </thead>\n",
       "  <tbody>\n",
       "    <tr>\n",
       "      <th>0</th>\n",
       "      <td>0</td>\n",
       "      <td>1</td>\n",
       "      <td>33</td>\n",
       "      <td>1</td>\n",
       "      <td>3</td>\n",
       "      <td>2</td>\n",
       "      <td>8</td>\n",
       "      <td>0</td>\n",
       "      <td>5</td>\n",
       "      <td>1</td>\n",
       "      <td>...</td>\n",
       "      <td>0</td>\n",
       "      <td>0</td>\n",
       "      <td>0</td>\n",
       "      <td>1</td>\n",
       "      <td>0</td>\n",
       "      <td>0</td>\n",
       "      <td>0</td>\n",
       "      <td>0</td>\n",
       "      <td>0</td>\n",
       "      <td>0</td>\n",
       "    </tr>\n",
       "    <tr>\n",
       "      <th>1</th>\n",
       "      <td>1</td>\n",
       "      <td>2</td>\n",
       "      <td>37</td>\n",
       "      <td>1</td>\n",
       "      <td>2</td>\n",
       "      <td>2</td>\n",
       "      <td>8</td>\n",
       "      <td>1</td>\n",
       "      <td>4</td>\n",
       "      <td>1</td>\n",
       "      <td>...</td>\n",
       "      <td>0</td>\n",
       "      <td>0</td>\n",
       "      <td>0</td>\n",
       "      <td>1</td>\n",
       "      <td>0</td>\n",
       "      <td>0</td>\n",
       "      <td>0</td>\n",
       "      <td>0</td>\n",
       "      <td>0</td>\n",
       "      <td>0</td>\n",
       "    </tr>\n",
       "    <tr>\n",
       "      <th>2</th>\n",
       "      <td>2</td>\n",
       "      <td>3</td>\n",
       "      <td>37</td>\n",
       "      <td>1</td>\n",
       "      <td>2</td>\n",
       "      <td>2</td>\n",
       "      <td>8</td>\n",
       "      <td>0</td>\n",
       "      <td>4</td>\n",
       "      <td>2</td>\n",
       "      <td>...</td>\n",
       "      <td>0</td>\n",
       "      <td>0</td>\n",
       "      <td>0</td>\n",
       "      <td>1</td>\n",
       "      <td>0</td>\n",
       "      <td>0</td>\n",
       "      <td>0</td>\n",
       "      <td>0</td>\n",
       "      <td>0</td>\n",
       "      <td>0</td>\n",
       "    </tr>\n",
       "    <tr>\n",
       "      <th>3</th>\n",
       "      <td>3</td>\n",
       "      <td>4</td>\n",
       "      <td>9</td>\n",
       "      <td>1</td>\n",
       "      <td>3</td>\n",
       "      <td>3</td>\n",
       "      <td>3</td>\n",
       "      <td>2</td>\n",
       "      <td>3</td>\n",
       "      <td>2</td>\n",
       "      <td>...</td>\n",
       "      <td>0</td>\n",
       "      <td>0</td>\n",
       "      <td>0</td>\n",
       "      <td>1</td>\n",
       "      <td>0</td>\n",
       "      <td>0</td>\n",
       "      <td>0</td>\n",
       "      <td>0</td>\n",
       "      <td>0</td>\n",
       "      <td>0</td>\n",
       "    </tr>\n",
       "    <tr>\n",
       "      <th>4</th>\n",
       "      <td>4</td>\n",
       "      <td>5</td>\n",
       "      <td>40</td>\n",
       "      <td>1</td>\n",
       "      <td>4</td>\n",
       "      <td>2</td>\n",
       "      <td>10</td>\n",
       "      <td>1</td>\n",
       "      <td>4</td>\n",
       "      <td>1</td>\n",
       "      <td>...</td>\n",
       "      <td>0</td>\n",
       "      <td>0</td>\n",
       "      <td>0</td>\n",
       "      <td>1</td>\n",
       "      <td>0</td>\n",
       "      <td>0</td>\n",
       "      <td>0</td>\n",
       "      <td>0</td>\n",
       "      <td>0</td>\n",
       "      <td>0</td>\n",
       "    </tr>\n",
       "    <tr>\n",
       "      <th>...</th>\n",
       "      <td>...</td>\n",
       "      <td>...</td>\n",
       "      <td>...</td>\n",
       "      <td>...</td>\n",
       "      <td>...</td>\n",
       "      <td>...</td>\n",
       "      <td>...</td>\n",
       "      <td>...</td>\n",
       "      <td>...</td>\n",
       "      <td>...</td>\n",
       "      <td>...</td>\n",
       "      <td>...</td>\n",
       "      <td>...</td>\n",
       "      <td>...</td>\n",
       "      <td>...</td>\n",
       "      <td>...</td>\n",
       "      <td>...</td>\n",
       "      <td>...</td>\n",
       "      <td>...</td>\n",
       "      <td>...</td>\n",
       "      <td>...</td>\n",
       "    </tr>\n",
       "    <tr>\n",
       "      <th>5817</th>\n",
       "      <td>5817</td>\n",
       "      <td>5818</td>\n",
       "      <td>36</td>\n",
       "      <td>1</td>\n",
       "      <td>1</td>\n",
       "      <td>2</td>\n",
       "      <td>8</td>\n",
       "      <td>0</td>\n",
       "      <td>6</td>\n",
       "      <td>1</td>\n",
       "      <td>...</td>\n",
       "      <td>0</td>\n",
       "      <td>0</td>\n",
       "      <td>0</td>\n",
       "      <td>1</td>\n",
       "      <td>0</td>\n",
       "      <td>0</td>\n",
       "      <td>0</td>\n",
       "      <td>0</td>\n",
       "      <td>0</td>\n",
       "      <td>0</td>\n",
       "    </tr>\n",
       "    <tr>\n",
       "      <th>5818</th>\n",
       "      <td>5818</td>\n",
       "      <td>5819</td>\n",
       "      <td>35</td>\n",
       "      <td>1</td>\n",
       "      <td>4</td>\n",
       "      <td>4</td>\n",
       "      <td>8</td>\n",
       "      <td>1</td>\n",
       "      <td>4</td>\n",
       "      <td>1</td>\n",
       "      <td>...</td>\n",
       "      <td>0</td>\n",
       "      <td>0</td>\n",
       "      <td>0</td>\n",
       "      <td>1</td>\n",
       "      <td>0</td>\n",
       "      <td>0</td>\n",
       "      <td>0</td>\n",
       "      <td>0</td>\n",
       "      <td>0</td>\n",
       "      <td>0</td>\n",
       "    </tr>\n",
       "    <tr>\n",
       "      <th>5819</th>\n",
       "      <td>5819</td>\n",
       "      <td>5820</td>\n",
       "      <td>33</td>\n",
       "      <td>1</td>\n",
       "      <td>3</td>\n",
       "      <td>4</td>\n",
       "      <td>8</td>\n",
       "      <td>0</td>\n",
       "      <td>6</td>\n",
       "      <td>0</td>\n",
       "      <td>...</td>\n",
       "      <td>0</td>\n",
       "      <td>0</td>\n",
       "      <td>0</td>\n",
       "      <td>1</td>\n",
       "      <td>0</td>\n",
       "      <td>0</td>\n",
       "      <td>0</td>\n",
       "      <td>0</td>\n",
       "      <td>0</td>\n",
       "      <td>1</td>\n",
       "    </tr>\n",
       "    <tr>\n",
       "      <th>5820</th>\n",
       "      <td>5820</td>\n",
       "      <td>5821</td>\n",
       "      <td>34</td>\n",
       "      <td>1</td>\n",
       "      <td>3</td>\n",
       "      <td>2</td>\n",
       "      <td>8</td>\n",
       "      <td>0</td>\n",
       "      <td>7</td>\n",
       "      <td>0</td>\n",
       "      <td>...</td>\n",
       "      <td>0</td>\n",
       "      <td>0</td>\n",
       "      <td>0</td>\n",
       "      <td>0</td>\n",
       "      <td>0</td>\n",
       "      <td>0</td>\n",
       "      <td>0</td>\n",
       "      <td>0</td>\n",
       "      <td>0</td>\n",
       "      <td>0</td>\n",
       "    </tr>\n",
       "    <tr>\n",
       "      <th>5821</th>\n",
       "      <td>5821</td>\n",
       "      <td>5822</td>\n",
       "      <td>33</td>\n",
       "      <td>1</td>\n",
       "      <td>3</td>\n",
       "      <td>3</td>\n",
       "      <td>8</td>\n",
       "      <td>0</td>\n",
       "      <td>6</td>\n",
       "      <td>1</td>\n",
       "      <td>...</td>\n",
       "      <td>0</td>\n",
       "      <td>0</td>\n",
       "      <td>0</td>\n",
       "      <td>0</td>\n",
       "      <td>0</td>\n",
       "      <td>0</td>\n",
       "      <td>0</td>\n",
       "      <td>0</td>\n",
       "      <td>0</td>\n",
       "      <td>0</td>\n",
       "    </tr>\n",
       "  </tbody>\n",
       "</table>\n",
       "<p>5822 rows × 88 columns</p>\n",
       "</div>"
      ],
      "text/plain": [
       "      Unnamed: 0    ID  Customer Subtype  Number of houses  \\\n",
       "0              0     1                33                 1   \n",
       "1              1     2                37                 1   \n",
       "2              2     3                37                 1   \n",
       "3              3     4                 9                 1   \n",
       "4              4     5                40                 1   \n",
       "...          ...   ...               ...               ...   \n",
       "5817        5817  5818                36                 1   \n",
       "5818        5818  5819                35                 1   \n",
       "5819        5819  5820                33                 1   \n",
       "5820        5820  5821                34                 1   \n",
       "5821        5821  5822                33                 1   \n",
       "\n",
       "      Avg size household  Avg age  Customer main type  Roman catholic  \\\n",
       "0                      3        2                   8               0   \n",
       "1                      2        2                   8               1   \n",
       "2                      2        2                   8               0   \n",
       "3                      3        3                   3               2   \n",
       "4                      4        2                  10               1   \n",
       "...                  ...      ...                 ...             ...   \n",
       "5817                   1        2                   8               0   \n",
       "5818                   4        4                   8               1   \n",
       "5819                   3        4                   8               0   \n",
       "5820                   3        2                   8               0   \n",
       "5821                   3        3                   8               0   \n",
       "\n",
       "      Protestant  Other relition  ...  \\\n",
       "0              5               1  ...   \n",
       "1              4               1  ...   \n",
       "2              4               2  ...   \n",
       "3              3               2  ...   \n",
       "4              4               1  ...   \n",
       "...          ...             ...  ...   \n",
       "5817           6               1  ...   \n",
       "5818           4               1  ...   \n",
       "5819           6               0  ...   \n",
       "5820           7               0  ...   \n",
       "5821           6               1  ...   \n",
       "\n",
       "      Number of private accident insurance policies  \\\n",
       "0                                                 0   \n",
       "1                                                 0   \n",
       "2                                                 0   \n",
       "3                                                 0   \n",
       "4                                                 0   \n",
       "...                                             ...   \n",
       "5817                                              0   \n",
       "5818                                              0   \n",
       "5819                                              0   \n",
       "5820                                              0   \n",
       "5821                                              0   \n",
       "\n",
       "      Number of family accidents insurance policies  \\\n",
       "0                                                 0   \n",
       "1                                                 0   \n",
       "2                                                 0   \n",
       "3                                                 0   \n",
       "4                                                 0   \n",
       "...                                             ...   \n",
       "5817                                              0   \n",
       "5818                                              0   \n",
       "5819                                              0   \n",
       "5820                                              0   \n",
       "5821                                              0   \n",
       "\n",
       "      Number of disability insurance policies  Number of fire policies  \\\n",
       "0                                           0                        1   \n",
       "1                                           0                        1   \n",
       "2                                           0                        1   \n",
       "3                                           0                        1   \n",
       "4                                           0                        1   \n",
       "...                                       ...                      ...   \n",
       "5817                                        0                        1   \n",
       "5818                                        0                        1   \n",
       "5819                                        0                        1   \n",
       "5820                                        0                        0   \n",
       "5821                                        0                        0   \n",
       "\n",
       "      Number of surfboard policies  Number of boat policies  \\\n",
       "0                                0                        0   \n",
       "1                                0                        0   \n",
       "2                                0                        0   \n",
       "3                                0                        0   \n",
       "4                                0                        0   \n",
       "...                            ...                      ...   \n",
       "5817                             0                        0   \n",
       "5818                             0                        0   \n",
       "5819                             0                        0   \n",
       "5820                             0                        0   \n",
       "5821                             0                        0   \n",
       "\n",
       "      Number of bicycle policies  Number of property insurance policies  \\\n",
       "0                              0                                      0   \n",
       "1                              0                                      0   \n",
       "2                              0                                      0   \n",
       "3                              0                                      0   \n",
       "4                              0                                      0   \n",
       "...                          ...                                    ...   \n",
       "5817                           0                                      0   \n",
       "5818                           0                                      0   \n",
       "5819                           0                                      0   \n",
       "5820                           0                                      0   \n",
       "5821                           0                                      0   \n",
       "\n",
       "      Number of social security insurance policies  Target  \n",
       "0                                                0       0  \n",
       "1                                                0       0  \n",
       "2                                                0       0  \n",
       "3                                                0       0  \n",
       "4                                                0       0  \n",
       "...                                            ...     ...  \n",
       "5817                                             0       0  \n",
       "5818                                             0       0  \n",
       "5819                                             0       1  \n",
       "5820                                             0       0  \n",
       "5821                                             0       0  \n",
       "\n",
       "[5822 rows x 88 columns]"
      ]
     },
     "execution_count": 64,
     "metadata": {},
     "output_type": "execute_result"
    }
   ],
   "source": [
    "trainset"
   ]
  },
  {
   "cell_type": "markdown",
   "id": "e505c599-0eef-48ec-9f82-f95adbef8430",
   "metadata": {},
   "source": [
    "<p><b style='font-weight=bold; color=darkblue; text-align:justified'>Imbalance data have been a significant problem in the real-world when applying Machine Learning Models to classify groups of customers in many important business activities such as loan default/ Fraud detection, email spam detection, cancer diagnostics, and customer churn prediction...</b></p>\n",
    "\n",
    "<p><b style='font-weight=bold; color=darkblue; text-align:justified'>These imbalance problems exist because of the nature of this problem. For example, most people request an amount of money from the bank using for their own demands. their demands might be buying a car/phone, renting an apartment, house purchasing, or building a starting up business. Almost no one intends to borrow money to run away (because if it occurs frequently, the bank will never provide the service or they will strictly screen borrowers' portfolios carefully and take many conditions into account when they prepare contracts to prevent default occurring. cancer probability is very small compared to normal conditions (although, it is necessary to consider the probability of cancer in specific problems, such as men have a higher odds of suffering lung cancer compared to women, but according to information on the CDC webpage, at US in all state, the rate of cancer regardless of gender, ethnicities is from 350 per 100.000 to 500 per 100.000). the factors of cancer scarcity are people have generic factors gained from their parents/grandparents and need to be exposed to some habit or environment. Since the uncertainty of bad events (accident when driving cars, `big fire at night, damage by accident or flood during using caravan) happen even when the risk rate is very small, people desire a happy and safety life that cover in insurance products.</b></p>\n",
    "<p><b style='font-weight=bold; color=darkblue; text-align:justified'>There are many techniques for dealing with prediction error problems from imbalanced datasets. In this project, I survey some resample techniques (SMOTE, UnderSampling, OverSampling) alone or combined with PCA (only for the dataset used in this project for solving the covariate correlation phenomenon). After data preparation (resample alone or with PCA), some models that are considered effective for imbalance issues were built including LinearDiscriminantAnalysis, RandomForestClassifier, LogisticRegression, and LGBMClassifier with each of the data samples prepared. Finally, the moving threshold technique was tuned and considered the threshold range from 0 to 100 to choose the best threshold build from a probability-based algorithm -Logistic Regression.</b></p>\n",
    "\n",
    "<p><b style='font-weight=bold; color=darkblue; text-align:justified;'>To evaluate model performance; recall, f2_score, auc and the number of True Positive cases were considered the most. It is crucial to calculate the cost of loss from the confusion matrix where the number of false positive and false negative cases was detected. Imagine that if the company wants to cover all positive customers, it can cover all customers. Still, the cost waste from uninsurance (customers who do not buy the product) is large because the majority of customers (94%) are not buying. However, if the company ignores a large number of customers who are the potential to buy the product because of false negative cases detected from our models, the loss is also large. Then, it is difficult but necessary to maximize correct positive cases (minimize false negatives) but not include too many false positive cases from prediction.</b></p>\n"
   ]
  },
  {
   "cell_type": "markdown",
   "id": "921134f3-afef-4c9f-9d66-236b58d22d8c",
   "metadata": {},
   "source": [
    "# SPLIT DATA"
   ]
  },
  {
   "cell_type": "code",
   "execution_count": 65,
   "id": "884e18f3-a8b0-4eec-9dd6-c1129d9319c4",
   "metadata": {},
   "outputs": [],
   "source": [
    "# train, validation = train_test_split(trainset, train_size=0.7, shuffle=True)\n",
    "X_train, X_test, y_train, y_test = train_test_split(trainset.iloc[:,2:-1], trainset.iloc[:,-1], train_size=0.75, shuffle=True)"
   ]
  },
  {
   "cell_type": "code",
   "execution_count": 66,
   "id": "17af7594-0336-4282-b337-ee0856e0636c",
   "metadata": {},
   "outputs": [],
   "source": [
    "# X_train, y_train = train[list(train.columns)[2:-1]], train['Target']\n",
    "# X_test, y_test = validation[list(validation.columns)[2:-1]], train['Target']\n",
    "selected_feat = ['Customer Subtype', 'Customer main type', 'Protestant',\n",
    "       'Other relition', 'No religion', 'Married', 'Other relation', 'Singles',\n",
    "       'Household without children', 'Household with children',\n",
    "       'High level education', 'Medium level education',\n",
    "       'Lower level education', 'High status', 'Middle management',\n",
    "       'Skilled labourers', 'Unskilled labourers', 'Social class A',\n",
    "       'Social class B1', 'Social class B2', 'Social class C', 'Rented house',\n",
    "       'Home owners', '1 car', '2 cars', 'No car', 'National Health Service',\n",
    "       'Private health insurance', 'Income 30.000', 'Income 30-45.000',\n",
    "       'Income 45-75.000', 'Income 75-122.000', 'Average income',\n",
    "       'Purchasing power class', 'Contribution private third party insurance',\n",
    "       'Contribution car policies', 'Contribution fire policies',\n",
    "       'Number of private third party insurance', 'Number of car policies',\n",
    "       'Number of fire policies']\n",
    "\n",
    "# Data with SMOTE\n",
    "from imblearn.over_sampling import SMOTE\n",
    "sm = SMOTE(random_state=42)\n",
    "X_res, y_res = sm.fit_resample(X_train, y_train)\n",
    "X_res.shape\n",
    "# Data with UnderSamling and OverSampling\n",
    "from imblearn.over_sampling import RandomOverSampler\n",
    "from imblearn.under_sampling import RandomUnderSampler\n",
    "us=RandomUnderSampler(random_state=42)\n",
    "X_us, y_us = us.fit_resample(X_train, y_train)\n",
    "os=RandomOverSampler(random_state=42)\n",
    "X_os, y_os = os.fit_resample(X_train, y_train)"
   ]
  },
  {
   "cell_type": "code",
   "execution_count": 67,
   "id": "3cac44ca-ad76-455a-a8e5-4c806f1f8ff0",
   "metadata": {},
   "outputs": [],
   "source": [
    "# survey PCA\n",
    "from sklearn.decomposition import PCA\n",
    "\n",
    "pca = PCA(n_components=25)\n",
    "X_train_pca = pca.fit_transform(X_res)\n",
    "X_test_pca = pca.transform(X_test)"
   ]
  },
  {
   "cell_type": "code",
   "execution_count": 68,
   "id": "12d3590c-b20d-4971-9711-65c28ccade78",
   "metadata": {},
   "outputs": [
    {
     "data": {
      "text/plain": [
       "[<matplotlib.lines.Line2D at 0x15fa3650358>]"
      ]
     },
     "execution_count": 68,
     "metadata": {},
     "output_type": "execute_result"
    },
    {
     "data": {
      "image/png": "[encoded data removed]",
      "text/plain": [
       "<Figure size 640x480 with 1 Axes>"
      ]
     },
     "metadata": {},
     "output_type": "display_data"
    }
   ],
   "source": [
    "exp_var_pca = pca.explained_variance_ratio_\n",
    "cum_sum_eigenvalues = np.cumsum(exp_var_pca)\n",
    "plt.plot(range(0,len(cum_sum_eigenvalues)), cum_sum_eigenvalues, label='Cumulative explained variance')"
   ]
  },
  {
   "cell_type": "markdown",
   "id": "5bcb2f3b-48ba-4302-9297-07d83d4f91d0",
   "metadata": {},
   "source": [
    "<p><b style='font-weight=bold; color=darkblue; text-align:justified'>After plot PCA variance explaination, from previous survey, optimal option is remaining only 5 components from selected features preserve the 85% of the data's variance."
   ]
  },
  {
   "cell_type": "markdown",
   "id": "8a910b74-c8cc-4b6a-bed3-e25b3f8f251a",
   "metadata": {},
   "source": [
    "## Apply PCA for 3 samples"
   ]
  },
  {
   "cell_type": "code",
   "execution_count": 69,
   "id": "4d9a5641-a555-4808-913a-3faeafca1532",
   "metadata": {},
   "outputs": [],
   "source": [
    "pca_rs = PCA(n_components=5)\n",
    "X_train_pca_res = pca_rs.fit_transform(X_res)\n",
    "X_test_pca_res = pca_rs.transform(X_test)\n",
    "pca_us = PCA(n_components=5)\n",
    "X_train_pca_us = pca_us.fit_transform(X_us)\n",
    "X_test_pca_us = pca_us.transform(X_test)\n",
    "pca_os = PCA(n_components=5)\n",
    "X_train_pca_os = pca_os.fit_transform(X_os)\n",
    "X_test_pca_os = pca_os.transform(X_test)\n"
   ]
  },
  {
   "cell_type": "code",
   "execution_count": 70,
   "id": "73c4a2ea-5e78-4f4e-8f01-bf4460c73217",
   "metadata": {},
   "outputs": [
    {
     "data": {
      "text/plain": [
       "(8222, 25)"
      ]
     },
     "execution_count": 70,
     "metadata": {},
     "output_type": "execute_result"
    }
   ],
   "source": [
    "X_train_pca.shape"
   ]
  },
  {
   "cell_type": "markdown",
   "id": "14473b12-138b-4601-a7f4-026ba8b27270",
   "metadata": {},
   "source": [
    "# TRUE LABEL FOR MODEL EVALUATION"
   ]
  },
  {
   "cell_type": "markdown",
   "id": "1b9fea76-7aaf-41bf-b3c9-c457e626d608",
   "metadata": {},
   "source": [
    "<p><b style='font-weight=bold; color=darkblue; text-align:justified'>To correctly evaluate models' performance, ticdata from kernal package of R was downloaded, compared with trainset and testset and true_label is the target (caravan) column with the last 4000 records from Ticdata."
   ]
  },
  {
   "cell_type": "code",
   "execution_count": 71,
   "id": "ae1a2550-9b8f-4d7e-bfb9-8a65c0f82742",
   "metadata": {},
   "outputs": [],
   "source": [
    "ticdata = pd.read_csv('data/ticdata.csv')\n",
    "ticdata_test_label = ticdata.iloc[5822:,-1]\n",
    "true_label = ticdata_test_label.apply(lambda x: 1 if x=='insurance' else 0)"
   ]
  },
  {
   "cell_type": "markdown",
   "id": "10ff20a0-1d06-4422-8113-6178e4eac743",
   "metadata": {},
   "source": [
    "# MODELS TUNING WITH DIFFERENT RESAMLE TECHNIQUE"
   ]
  },
  {
   "cell_type": "markdown",
   "id": "f5b7c7bc-790e-4ad6-9f20-00a5e82773d2",
   "metadata": {},
   "source": [
    "# 1. LinearDiscriminantAnalysis"
   ]
  },
  {
   "cell_type": "markdown",
   "id": "2b808c3b-2148-4ebc-aee3-530c031cd224",
   "metadata": {},
   "source": [
    "### WITH SMOTE"
   ]
  },
  {
   "cell_type": "code",
   "execution_count": 72,
   "id": "dd50d59c-d39f-4b79-8b95-16f073ecdd17",
   "metadata": {},
   "outputs": [],
   "source": [
    "from sklearn.metrics import precision_score, recall_score, accuracy_score, f1_score\n",
    "from sklearn.discriminant_analysis import LinearDiscriminantAnalysis\n",
    "from sklearn.ensemble import RandomForestClassifier"
   ]
  },
  {
   "cell_type": "code",
   "execution_count": 73,
   "id": "0f91b6a3-557c-45a2-a5bf-1ed564604f9c",
   "metadata": {},
   "outputs": [
    {
     "name": "stdout",
     "output_type": "stream",
     "text": [
      "0.6655622086005727\n",
      "----------------------------------------\n",
      "              precision    recall  f1-score   support\n",
      "\n",
      "           0       0.97      0.65      0.78      1363\n",
      "           1       0.12      0.68      0.20        93\n",
      "\n",
      "    accuracy                           0.66      1456\n",
      "   macro avg       0.54      0.67      0.49      1456\n",
      "weighted avg       0.91      0.66      0.74      1456\n",
      "\n"
     ]
    },
    {
     "name": "stderr",
     "output_type": "stream",
     "text": [
      "C:\\Users\\Admin\\AppData\\Local\\Programs\\Python\\Python37\\lib\\site-packages\\sklearn\\utils\\deprecation.py:87: FutureWarning: Function plot_roc_curve is deprecated; Function :func:`plot_roc_curve` is deprecated in 1.0 and will be removed in 1.2. Use one of the class methods: :meth:`sklearn.metric.RocCurveDisplay.from_predictions` or :meth:`sklearn.metric.RocCurveDisplay.from_estimator`.\n",
      "  warnings.warn(msg, category=FutureWarning)\n"
     ]
    },
    {
     "data": {
      "image/png": "[encoded data removed]",
      "text/plain": [
       "<Figure size 640x480 with 1 Axes>"
      ]
     },
     "metadata": {},
     "output_type": "display_data"
    }
   ],
   "source": [
    "\n",
    "lda_res = LinearDiscriminantAnalysis()\n",
    "lda_res.fit(X_train_pca_res, y_res)\n",
    "y_pred = lda_res.predict(X_test_pca_res)\n",
    "\n",
    "print(roc_auc_score(y_test, y_pred))\n",
    "print('--'*20)\n",
    "\n",
    "print(classification_report(y_test, y_pred))\n",
    "plot_roc_curve(lda_res, X_test_pca_res, y_test)\n",
    "\n",
    "summary = pd.DataFrame({'SMOTE':[accuracy_score(y_test, y_pred),precision_score(y_test, y_pred), recall_score(y_test, y_pred), f1_score(y_test, y_pred), roc_auc_score(y_test, y_pred)]}, index=['accuracy', 'precision', 'recall', 'f1_score', 'AUC'])"
   ]
  },
  {
   "cell_type": "code",
   "execution_count": 74,
   "id": "e3246858-0493-4696-bccd-12a5102ddb49",
   "metadata": {},
   "outputs": [],
   "source": [
    "from sklearn.metrics import confusion_matrix"
   ]
  },
  {
   "cell_type": "code",
   "execution_count": 75,
   "id": "5371c65a-b697-4bda-b827-4d5b4bdeedbd",
   "metadata": {},
   "outputs": [
    {
     "data": {
      "text/plain": [
       "array([[891, 472],\n",
       "       [ 30,  63]], dtype=int64)"
      ]
     },
     "execution_count": 75,
     "metadata": {},
     "output_type": "execute_result"
    }
   ],
   "source": [
    "confusion_matrix(y_test, y_pred)"
   ]
  },
  {
   "cell_type": "code",
   "execution_count": 76,
   "id": "fff600b9-5f6b-45e2-8c93-2c5802075707",
   "metadata": {},
   "outputs": [
    {
     "data": {
      "text/plain": [
       "0.6572165158338747"
      ]
     },
     "execution_count": 76,
     "metadata": {},
     "output_type": "execute_result"
    }
   ],
   "source": [
    "import numpy as np\n",
    "g_MEAN = np.sqrt((882/(882+497))*(52/(52+25)))\n",
    "g_MEAN"
   ]
  },
  {
   "cell_type": "markdown",
   "id": "91bb93db-a819-470c-aa4f-370407e4dd3f",
   "metadata": {},
   "source": [
    "## UNDER SAMPLING"
   ]
  },
  {
   "cell_type": "markdown",
   "id": "1eb88a8f-8b4a-4761-942f-5ef8bc42017a",
   "metadata": {},
   "source": []
  },
  {
   "cell_type": "code",
   "execution_count": 77,
   "id": "debcb878-2659-439f-a1b0-f24812c79e57",
   "metadata": {},
   "outputs": [
    {
     "name": "stdout",
     "output_type": "stream",
     "text": [
      "0.6369725226611127\n",
      "----------------------------------------\n",
      "              precision    recall  f1-score   support\n",
      "\n",
      "           0       0.96      0.66      0.78      1363\n",
      "           1       0.11      0.61      0.19        93\n",
      "\n",
      "    accuracy                           0.66      1456\n",
      "   macro avg       0.54      0.64      0.48      1456\n",
      "weighted avg       0.91      0.66      0.75      1456\n",
      "\n"
     ]
    },
    {
     "name": "stderr",
     "output_type": "stream",
     "text": [
      "C:\\Users\\Admin\\AppData\\Local\\Programs\\Python\\Python37\\lib\\site-packages\\sklearn\\utils\\deprecation.py:87: FutureWarning: Function plot_roc_curve is deprecated; Function :func:`plot_roc_curve` is deprecated in 1.0 and will be removed in 1.2. Use one of the class methods: :meth:`sklearn.metric.RocCurveDisplay.from_predictions` or :meth:`sklearn.metric.RocCurveDisplay.from_estimator`.\n",
      "  warnings.warn(msg, category=FutureWarning)\n"
     ]
    },
    {
     "data": {
      "image/png": "[encoded data removed]",
      "text/plain": [
       "<Figure size 640x480 with 1 Axes>"
      ]
     },
     "metadata": {},
     "output_type": "display_data"
    }
   ],
   "source": [
    "\n",
    "lda_us = LinearDiscriminantAnalysis()\n",
    "lda_us.fit(X_train_pca_us, y_us)\n",
    "y_pred = lda_us.predict(X_test_pca_us)\n",
    "\n",
    "print(roc_auc_score(y_test, y_pred))\n",
    "print('--'*20)\n",
    "\n",
    "print(classification_report(y_test, y_pred))\n",
    "plot_roc_curve(lda_us, X_test_pca_os, y_test)\n",
    "\n",
    "us_sum = pd.DataFrame({'UnderSampling':[accuracy_score(y_test, y_pred),precision_score(y_test, y_pred), recall_score(y_test, y_pred), f1_score(y_test, y_pred), roc_auc_score(y_test, y_pred)]}, index=['accuracy', 'precision', 'recall', 'f1_score', 'AUC'])\n",
    "summary=pd.concat([summary, us_sum], axis=1)"
   ]
  },
  {
   "cell_type": "code",
   "execution_count": 78,
   "id": "4d94cc87-4808-4563-90d4-c91c676f4b59",
   "metadata": {},
   "outputs": [
    {
     "data": {
      "text/html": [
       "<div>\n",
       "<style scoped>\n",
       "    .dataframe tbody tr th:only-of-type {\n",
       "        vertical-align: middle;\n",
       "    }\n",
       "\n",
       "    .dataframe tbody tr th {\n",
       "        vertical-align: top;\n",
       "    }\n",
       "\n",
       "    .dataframe thead th {\n",
       "        text-align: right;\n",
       "    }\n",
       "</style>\n",
       "<table border=\"1\" class=\"dataframe\">\n",
       "  <thead>\n",
       "    <tr style=\"text-align: right;\">\n",
       "      <th></th>\n",
       "      <th>SMOTE</th>\n",
       "      <th>UnderSampling</th>\n",
       "    </tr>\n",
       "  </thead>\n",
       "  <tbody>\n",
       "    <tr>\n",
       "      <th>accuracy</th>\n",
       "      <td>0.655220</td>\n",
       "      <td>0.657967</td>\n",
       "    </tr>\n",
       "    <tr>\n",
       "      <th>precision</th>\n",
       "      <td>0.117757</td>\n",
       "      <td>0.109827</td>\n",
       "    </tr>\n",
       "    <tr>\n",
       "      <th>recall</th>\n",
       "      <td>0.677419</td>\n",
       "      <td>0.612903</td>\n",
       "    </tr>\n",
       "    <tr>\n",
       "      <th>f1_score</th>\n",
       "      <td>0.200637</td>\n",
       "      <td>0.186275</td>\n",
       "    </tr>\n",
       "    <tr>\n",
       "      <th>AUC</th>\n",
       "      <td>0.665562</td>\n",
       "      <td>0.636973</td>\n",
       "    </tr>\n",
       "  </tbody>\n",
       "</table>\n",
       "</div>"
      ],
      "text/plain": [
       "              SMOTE  UnderSampling\n",
       "accuracy   0.655220       0.657967\n",
       "precision  0.117757       0.109827\n",
       "recall     0.677419       0.612903\n",
       "f1_score   0.200637       0.186275\n",
       "AUC        0.665562       0.636973"
      ]
     },
     "execution_count": 78,
     "metadata": {},
     "output_type": "execute_result"
    }
   ],
   "source": [
    "summary"
   ]
  },
  {
   "cell_type": "markdown",
   "id": "f23b11b4-6357-49b2-bdb2-0ee3d601182a",
   "metadata": {},
   "source": [
    "## OverSampling"
   ]
  },
  {
   "cell_type": "code",
   "execution_count": 79,
   "id": "b2359ded-0bbc-4bbb-9dcf-3f2609902448",
   "metadata": {},
   "outputs": [
    {
     "name": "stdout",
     "output_type": "stream",
     "text": [
      "0.6540758447131958\n",
      "----------------------------------------\n",
      "              precision    recall  f1-score   support\n",
      "\n",
      "           0       0.97      0.65      0.78      1363\n",
      "           1       0.11      0.66      0.19        93\n",
      "\n",
      "    accuracy                           0.65      1456\n",
      "   macro avg       0.54      0.65      0.49      1456\n",
      "weighted avg       0.91      0.65      0.74      1456\n",
      "\n"
     ]
    },
    {
     "name": "stderr",
     "output_type": "stream",
     "text": [
      "C:\\Users\\Admin\\AppData\\Local\\Programs\\Python\\Python37\\lib\\site-packages\\sklearn\\utils\\deprecation.py:87: FutureWarning: Function plot_roc_curve is deprecated; Function :func:`plot_roc_curve` is deprecated in 1.0 and will be removed in 1.2. Use one of the class methods: :meth:`sklearn.metric.RocCurveDisplay.from_predictions` or :meth:`sklearn.metric.RocCurveDisplay.from_estimator`.\n",
      "  warnings.warn(msg, category=FutureWarning)\n"
     ]
    },
    {
     "data": {
      "image/png": "[encoded data removed]",
      "text/plain": [
       "<Figure size 640x480 with 1 Axes>"
      ]
     },
     "metadata": {},
     "output_type": "display_data"
    }
   ],
   "source": [
    "\n",
    "lda_os = LinearDiscriminantAnalysis()\n",
    "lda_os.fit(X_train_pca_os, y_os)\n",
    "y_pred = lda_os.predict(X_test_pca_os)\n",
    "\n",
    "print(roc_auc_score(y_test, y_pred))\n",
    "print('--'*20)\n",
    "\n",
    "print(classification_report(y_test, y_pred))\n",
    "plot_roc_curve(lda_os, X_test_pca_os, y_test)\n",
    "\n",
    "os_sum = pd.DataFrame({'OverSampling':[accuracy_score(y_test, y_pred),precision_score(y_test, y_pred), recall_score(y_test, y_pred), f1_score(y_test, y_pred), roc_auc_score(y_test, y_pred)]}, index=['accuracy', 'precision', 'recall', 'f1_score', 'AUC'])\n",
    "summary=pd.concat([summary, os_sum], axis=1)"
   ]
  },
  {
   "cell_type": "code",
   "execution_count": 80,
   "id": "4ded565e-ee05-4dd4-875f-32c66ab07d8a",
   "metadata": {},
   "outputs": [
    {
     "data": {
      "text/html": [
       "<div>\n",
       "<style scoped>\n",
       "    .dataframe tbody tr th:only-of-type {\n",
       "        vertical-align: middle;\n",
       "    }\n",
       "\n",
       "    .dataframe tbody tr th {\n",
       "        vertical-align: top;\n",
       "    }\n",
       "\n",
       "    .dataframe thead th {\n",
       "        text-align: right;\n",
       "    }\n",
       "</style>\n",
       "<table border=\"1\" class=\"dataframe\">\n",
       "  <thead>\n",
       "    <tr style=\"text-align: right;\">\n",
       "      <th></th>\n",
       "      <th>SMOTE</th>\n",
       "      <th>UnderSampling</th>\n",
       "      <th>OverSampling</th>\n",
       "    </tr>\n",
       "  </thead>\n",
       "  <tbody>\n",
       "    <tr>\n",
       "      <th>accuracy</th>\n",
       "      <td>0.655220</td>\n",
       "      <td>0.657967</td>\n",
       "      <td>0.652473</td>\n",
       "    </tr>\n",
       "    <tr>\n",
       "      <th>precision</th>\n",
       "      <td>0.117757</td>\n",
       "      <td>0.109827</td>\n",
       "      <td>0.114019</td>\n",
       "    </tr>\n",
       "    <tr>\n",
       "      <th>recall</th>\n",
       "      <td>0.677419</td>\n",
       "      <td>0.612903</td>\n",
       "      <td>0.655914</td>\n",
       "    </tr>\n",
       "    <tr>\n",
       "      <th>f1_score</th>\n",
       "      <td>0.200637</td>\n",
       "      <td>0.186275</td>\n",
       "      <td>0.194268</td>\n",
       "    </tr>\n",
       "    <tr>\n",
       "      <th>AUC</th>\n",
       "      <td>0.665562</td>\n",
       "      <td>0.636973</td>\n",
       "      <td>0.654076</td>\n",
       "    </tr>\n",
       "  </tbody>\n",
       "</table>\n",
       "</div>"
      ],
      "text/plain": [
       "              SMOTE  UnderSampling  OverSampling\n",
       "accuracy   0.655220       0.657967      0.652473\n",
       "precision  0.117757       0.109827      0.114019\n",
       "recall     0.677419       0.612903      0.655914\n",
       "f1_score   0.200637       0.186275      0.194268\n",
       "AUC        0.665562       0.636973      0.654076"
      ]
     },
     "execution_count": 80,
     "metadata": {},
     "output_type": "execute_result"
    }
   ],
   "source": [
    "summary"
   ]
  },
  {
   "cell_type": "markdown",
   "id": "acf99a37-51a9-43ed-a622-b67440a960df",
   "metadata": {},
   "source": [
    "# 2. RandomForestClassifier"
   ]
  },
  {
   "cell_type": "markdown",
   "id": "68940d68-c30d-4837-915e-98016606ae42",
   "metadata": {},
   "source": [
    "## SMOTE"
   ]
  },
  {
   "cell_type": "code",
   "execution_count": 81,
   "id": "37e4daee-ed75-4876-b72d-bb4d151d98d6",
   "metadata": {},
   "outputs": [
    {
     "name": "stdout",
     "output_type": "stream",
     "text": [
      "0.5383325838796457\n",
      "----------------------------------------\n",
      "              precision    recall  f1-score   support\n",
      "\n",
      "           0       0.94      0.90      0.92      1363\n",
      "           1       0.11      0.17      0.13        93\n",
      "\n",
      "    accuracy                           0.86      1456\n",
      "   macro avg       0.53      0.54      0.53      1456\n",
      "weighted avg       0.89      0.86      0.87      1456\n",
      "\n"
     ]
    },
    {
     "name": "stderr",
     "output_type": "stream",
     "text": [
      "C:\\Users\\Admin\\AppData\\Local\\Programs\\Python\\Python37\\lib\\site-packages\\sklearn\\utils\\deprecation.py:87: FutureWarning: Function plot_roc_curve is deprecated; Function :func:`plot_roc_curve` is deprecated in 1.0 and will be removed in 1.2. Use one of the class methods: :meth:`sklearn.metric.RocCurveDisplay.from_predictions` or :meth:`sklearn.metric.RocCurveDisplay.from_estimator`.\n",
      "  warnings.warn(msg, category=FutureWarning)\n"
     ]
    },
    {
     "data": {
      "image/png": "[encoded data removed]",
      "text/plain": [
       "<Figure size 640x480 with 1 Axes>"
      ]
     },
     "metadata": {},
     "output_type": "display_data"
    }
   ],
   "source": [
    "\n",
    "rf_res = RandomForestClassifier()\n",
    "rf_res.fit(X_train_pca_res, y_res)\n",
    "y_pred = rf_res.predict(X_test_pca_res)\n",
    "\n",
    "print(roc_auc_score(y_test, y_pred))\n",
    "print('--'*20)\n",
    "\n",
    "print(classification_report(y_test, y_pred))\n",
    "plot_roc_curve(rf_res, X_test_pca_res, y_test)\n",
    "\n",
    "summary_rf = pd.DataFrame({'SMOTE':[accuracy_score(y_test, y_pred),precision_score(y_test, y_pred), recall_score(y_test, y_pred), f1_score(y_test, y_pred), roc_auc_score(y_test, y_pred)]}, index=['accuracy', 'precision', 'recall', 'f1_score', 'AUC'])"
   ]
  },
  {
   "cell_type": "markdown",
   "id": "c0d8083d-d85d-4e00-9dd4-f8ff790f1bbd",
   "metadata": {},
   "source": [
    "## UnderSampling"
   ]
  },
  {
   "cell_type": "code",
   "execution_count": 82,
   "id": "5daf203f-a8f3-4229-847e-cfe87172acdf",
   "metadata": {},
   "outputs": [
    {
     "name": "stdout",
     "output_type": "stream",
     "text": [
      "0.6380612027548339\n",
      "----------------------------------------\n",
      "              precision    recall  f1-score   support\n",
      "\n",
      "           0       0.96      0.63      0.76      1363\n",
      "           1       0.11      0.65      0.18        93\n",
      "\n",
      "    accuracy                           0.63      1456\n",
      "   macro avg       0.53      0.64      0.47      1456\n",
      "weighted avg       0.91      0.63      0.73      1456\n",
      "\n"
     ]
    },
    {
     "name": "stderr",
     "output_type": "stream",
     "text": [
      "C:\\Users\\Admin\\AppData\\Local\\Programs\\Python\\Python37\\lib\\site-packages\\sklearn\\utils\\deprecation.py:87: FutureWarning: Function plot_roc_curve is deprecated; Function :func:`plot_roc_curve` is deprecated in 1.0 and will be removed in 1.2. Use one of the class methods: :meth:`sklearn.metric.RocCurveDisplay.from_predictions` or :meth:`sklearn.metric.RocCurveDisplay.from_estimator`.\n",
      "  warnings.warn(msg, category=FutureWarning)\n"
     ]
    },
    {
     "data": {
      "image/png": "[encoded data removed]",
      "text/plain": [
       "<Figure size 640x480 with 1 Axes>"
      ]
     },
     "metadata": {},
     "output_type": "display_data"
    }
   ],
   "source": [
    "\n",
    "rf_us = RandomForestClassifier()\n",
    "rf_us.fit(X_train_pca_us, y_us)\n",
    "y_pred = rf_us.predict(X_test_pca_us)\n",
    "\n",
    "print(roc_auc_score(y_test, y_pred))\n",
    "print('--'*20)\n",
    "\n",
    "print(classification_report(y_test, y_pred))\n",
    "plot_roc_curve(rf_us, X_test_pca_os, y_test)\n",
    "\n",
    "rus_sum = pd.DataFrame({'UnderSampling':[accuracy_score(y_test, y_pred),precision_score(y_test, y_pred), recall_score(y_test, y_pred), f1_score(y_test, y_pred), roc_auc_score(y_test, y_pred)]}, index=['accuracy', 'precision', 'recall', 'f1_score', 'AUC'])\n",
    "summary_rf=pd.concat([summary_rf, rus_sum], axis=1)"
   ]
  },
  {
   "cell_type": "markdown",
   "id": "ddc595c2-c980-4692-9e1d-60f896018a0c",
   "metadata": {},
   "source": [
    "## OverSampling"
   ]
  },
  {
   "cell_type": "code",
   "execution_count": 83,
   "id": "def2bfbd-6a4d-47cd-b5a2-6fa0a302f2ec",
   "metadata": {},
   "outputs": [
    {
     "name": "stdout",
     "output_type": "stream",
     "text": [
      "0.5370151231865193\n",
      "----------------------------------------\n",
      "              precision    recall  f1-score   support\n",
      "\n",
      "           0       0.94      0.98      0.96      1363\n",
      "           1       0.23      0.10      0.14        93\n",
      "\n",
      "    accuracy                           0.92      1456\n",
      "   macro avg       0.58      0.54      0.55      1456\n",
      "weighted avg       0.89      0.92      0.91      1456\n",
      "\n"
     ]
    },
    {
     "name": "stderr",
     "output_type": "stream",
     "text": [
      "C:\\Users\\Admin\\AppData\\Local\\Programs\\Python\\Python37\\lib\\site-packages\\sklearn\\utils\\deprecation.py:87: FutureWarning: Function plot_roc_curve is deprecated; Function :func:`plot_roc_curve` is deprecated in 1.0 and will be removed in 1.2. Use one of the class methods: :meth:`sklearn.metric.RocCurveDisplay.from_predictions` or :meth:`sklearn.metric.RocCurveDisplay.from_estimator`.\n",
      "  warnings.warn(msg, category=FutureWarning)\n"
     ]
    },
    {
     "data": {
      "image/png": "[encoded data removed]",
      "text/plain": [
       "<Figure size 640x480 with 1 Axes>"
      ]
     },
     "metadata": {},
     "output_type": "display_data"
    }
   ],
   "source": [
    "\n",
    "rf_os = RandomForestClassifier()\n",
    "rf_os.fit(X_train_pca_os, y_os)\n",
    "y_pred = rf_os.predict(X_test_pca_os)\n",
    "\n",
    "print(roc_auc_score(y_test, y_pred))\n",
    "print('--'*20)\n",
    "\n",
    "print(classification_report(y_test, y_pred))\n",
    "plot_roc_curve(rf_os, X_test_pca_os, y_test)\n",
    "\n",
    "ros_sum = pd.DataFrame({'OverSampling':[accuracy_score(y_test, y_pred),precision_score(y_test, y_pred), recall_score(y_test, y_pred), f1_score(y_test, y_pred), roc_auc_score(y_test, y_pred)]}, index=['accuracy', 'precision', 'recall', 'f1_score', 'AUC'])\n",
    "summary_rf=pd.concat([summary_rf, ros_sum], axis=1)"
   ]
  },
  {
   "cell_type": "code",
   "execution_count": 84,
   "id": "f7f729c7-be8d-433c-ad04-c69baba11067",
   "metadata": {},
   "outputs": [
    {
     "data": {
      "text/html": [
       "<div>\n",
       "<style scoped>\n",
       "    .dataframe tbody tr th:only-of-type {\n",
       "        vertical-align: middle;\n",
       "    }\n",
       "\n",
       "    .dataframe tbody tr th {\n",
       "        vertical-align: top;\n",
       "    }\n",
       "\n",
       "    .dataframe thead th {\n",
       "        text-align: right;\n",
       "    }\n",
       "</style>\n",
       "<table border=\"1\" class=\"dataframe\">\n",
       "  <thead>\n",
       "    <tr style=\"text-align: right;\">\n",
       "      <th></th>\n",
       "      <th>SMOTE</th>\n",
       "      <th>UnderSampling</th>\n",
       "      <th>OverSampling</th>\n",
       "    </tr>\n",
       "  </thead>\n",
       "  <tbody>\n",
       "    <tr>\n",
       "      <th>accuracy</th>\n",
       "      <td>0.857830</td>\n",
       "      <td>0.631868</td>\n",
       "      <td>0.921016</td>\n",
       "    </tr>\n",
       "    <tr>\n",
       "      <th>precision</th>\n",
       "      <td>0.109589</td>\n",
       "      <td>0.106572</td>\n",
       "      <td>0.225000</td>\n",
       "    </tr>\n",
       "    <tr>\n",
       "      <th>recall</th>\n",
       "      <td>0.172043</td>\n",
       "      <td>0.645161</td>\n",
       "      <td>0.096774</td>\n",
       "    </tr>\n",
       "    <tr>\n",
       "      <th>f1_score</th>\n",
       "      <td>0.133891</td>\n",
       "      <td>0.182927</td>\n",
       "      <td>0.135338</td>\n",
       "    </tr>\n",
       "    <tr>\n",
       "      <th>AUC</th>\n",
       "      <td>0.538333</td>\n",
       "      <td>0.638061</td>\n",
       "      <td>0.537015</td>\n",
       "    </tr>\n",
       "  </tbody>\n",
       "</table>\n",
       "</div>"
      ],
      "text/plain": [
       "              SMOTE  UnderSampling  OverSampling\n",
       "accuracy   0.857830       0.631868      0.921016\n",
       "precision  0.109589       0.106572      0.225000\n",
       "recall     0.172043       0.645161      0.096774\n",
       "f1_score   0.133891       0.182927      0.135338\n",
       "AUC        0.538333       0.638061      0.537015"
      ]
     },
     "execution_count": 84,
     "metadata": {},
     "output_type": "execute_result"
    }
   ],
   "source": [
    "summary_rf"
   ]
  },
  {
   "cell_type": "markdown",
   "id": "34a74b76-20e9-40ce-a81c-3e63872de00b",
   "metadata": {},
   "source": [
    "# 3. LGBMClassifier"
   ]
  },
  {
   "cell_type": "markdown",
   "id": "7fdc411c-7f91-4c4f-9335-ed8f16b42348",
   "metadata": {},
   "source": [
    "## SMOTE"
   ]
  },
  {
   "cell_type": "code",
   "execution_count": 85,
   "id": "4dce1d21-d111-49b6-9e3d-8526ddf6ba1e",
   "metadata": {},
   "outputs": [
    {
     "name": "stdout",
     "output_type": "stream",
     "text": [
      "[LightGBM] [Warning] Unknown parameter: max_dept\n",
      "0.5847356006279634\n",
      "----------------------------------------\n",
      "              precision    recall  f1-score   support\n",
      "\n",
      "           0       0.95      0.83      0.88      1363\n",
      "           1       0.12      0.34      0.18        93\n",
      "\n",
      "    accuracy                           0.79      1456\n",
      "   macro avg       0.53      0.58      0.53      1456\n",
      "weighted avg       0.90      0.79      0.84      1456\n",
      "\n"
     ]
    },
    {
     "name": "stderr",
     "output_type": "stream",
     "text": [
      "C:\\Users\\Admin\\AppData\\Local\\Programs\\Python\\Python37\\lib\\site-packages\\sklearn\\utils\\deprecation.py:87: FutureWarning: Function plot_roc_curve is deprecated; Function :func:`plot_roc_curve` is deprecated in 1.0 and will be removed in 1.2. Use one of the class methods: :meth:`sklearn.metric.RocCurveDisplay.from_predictions` or :meth:`sklearn.metric.RocCurveDisplay.from_estimator`.\n",
      "  warnings.warn(msg, category=FutureWarning)\n"
     ]
    },
    {
     "data": {
      "image/png": "[encoded data removed]",
      "text/plain": [
       "<Figure size 640x480 with 1 Axes>"
      ]
     },
     "metadata": {},
     "output_type": "display_data"
    }
   ],
   "source": [
    "lgm_res = LGBMClassifier(boosting_type='goss', num_leaves=40, max_dept=10, learning_rate=0.1, n_estimators=50)\n",
    "lgm_res.fit(X_train_pca_res, y_res)\n",
    "y_pred = lgm_res.predict(X_test_pca_res)\n",
    "\n",
    "print(roc_auc_score(y_test, y_pred))\n",
    "print('--'*20)\n",
    "\n",
    "print(classification_report(y_test, y_pred))\n",
    "plot_roc_curve(lgm_res, X_test_pca_res, y_test)\n",
    "\n",
    "summary_lgm = pd.DataFrame({'SMOTE':[accuracy_score(y_test, y_pred),precision_score(y_test, y_pred), recall_score(y_test, y_pred), f1_score(y_test, y_pred), roc_auc_score(y_test, y_pred)]}, index=['accuracy', 'precision', 'recall', 'f1_score', 'AUC'])"
   ]
  },
  {
   "cell_type": "markdown",
   "id": "495d8b41-ce7a-4c85-92f8-47a4f2ad0df8",
   "metadata": {},
   "source": [
    "# OverSampling"
   ]
  },
  {
   "cell_type": "code",
   "execution_count": 86,
   "id": "687f2d61-fafe-4811-a971-a64c63ecde88",
   "metadata": {},
   "outputs": [
    {
     "name": "stdout",
     "output_type": "stream",
     "text": [
      "[LightGBM] [Warning] Unknown parameter: max_dept\n"
     ]
    },
    {
     "ename": "ValueError",
     "evalue": "Found input variables with inconsistent numbers of samples: [4000, 1456]",
     "output_type": "error",
     "traceback": [
      "\u001b[1;31m---------------------------------------------------------------------------\u001b[0m",
      "\u001b[1;31mValueError\u001b[0m                                Traceback (most recent call last)",
      "\u001b[1;32m~\\AppData\\Local\\Temp\\ipykernel_22968\\809652876.py\u001b[0m in \u001b[0;36m<module>\u001b[1;34m\u001b[0m\n\u001b[0;32m      3\u001b[0m \u001b[0my_pred\u001b[0m \u001b[1;33m=\u001b[0m \u001b[0mlgm_os\u001b[0m\u001b[1;33m.\u001b[0m\u001b[0mpredict\u001b[0m\u001b[1;33m(\u001b[0m\u001b[0mX_test_pca_os\u001b[0m\u001b[1;33m)\u001b[0m\u001b[1;33m\u001b[0m\u001b[0m\n\u001b[0;32m      4\u001b[0m \u001b[1;33m\u001b[0m\u001b[0m\n\u001b[1;32m----> 5\u001b[1;33m \u001b[0mprint\u001b[0m\u001b[1;33m(\u001b[0m\u001b[0mroc_auc_score\u001b[0m\u001b[1;33m(\u001b[0m\u001b[0mtrue_label\u001b[0m\u001b[1;33m,\u001b[0m \u001b[0my_pred\u001b[0m\u001b[1;33m)\u001b[0m\u001b[1;33m)\u001b[0m\u001b[1;33m\u001b[0m\u001b[0m\n\u001b[0m\u001b[0;32m      6\u001b[0m \u001b[0mprint\u001b[0m\u001b[1;33m(\u001b[0m\u001b[1;34m'--'\u001b[0m\u001b[1;33m*\u001b[0m\u001b[1;36m20\u001b[0m\u001b[1;33m)\u001b[0m\u001b[1;33m\u001b[0m\u001b[0m\n\u001b[0;32m      7\u001b[0m \u001b[1;33m\u001b[0m\u001b[0m\n",
      "\u001b[1;32m~\\AppData\\Local\\Programs\\Python\\Python37\\lib\\site-packages\\sklearn\\metrics\\_ranking.py\u001b[0m in \u001b[0;36mroc_auc_score\u001b[1;34m(y_true, y_score, average, sample_weight, max_fpr, multi_class, labels)\u001b[0m\n\u001b[0;32m    570\u001b[0m             \u001b[0my_score\u001b[0m\u001b[1;33m,\u001b[0m\u001b[1;33m\u001b[0m\u001b[0m\n\u001b[0;32m    571\u001b[0m             \u001b[0maverage\u001b[0m\u001b[1;33m,\u001b[0m\u001b[1;33m\u001b[0m\u001b[0m\n\u001b[1;32m--> 572\u001b[1;33m             \u001b[0msample_weight\u001b[0m\u001b[1;33m=\u001b[0m\u001b[0msample_weight\u001b[0m\u001b[1;33m,\u001b[0m\u001b[1;33m\u001b[0m\u001b[0m\n\u001b[0m\u001b[0;32m    573\u001b[0m         )\n\u001b[0;32m    574\u001b[0m     \u001b[1;32melse\u001b[0m\u001b[1;33m:\u001b[0m  \u001b[1;31m# multilabel-indicator\u001b[0m\u001b[1;33m\u001b[0m\u001b[0m\n",
      "\u001b[1;32m~\\AppData\\Local\\Programs\\Python\\Python37\\lib\\site-packages\\sklearn\\metrics\\_base.py\u001b[0m in \u001b[0;36m_average_binary_score\u001b[1;34m(binary_metric, y_true, y_score, average, sample_weight)\u001b[0m\n\u001b[0;32m     73\u001b[0m \u001b[1;33m\u001b[0m\u001b[0m\n\u001b[0;32m     74\u001b[0m     \u001b[1;32mif\u001b[0m \u001b[0my_type\u001b[0m \u001b[1;33m==\u001b[0m \u001b[1;34m\"binary\"\u001b[0m\u001b[1;33m:\u001b[0m\u001b[1;33m\u001b[0m\u001b[0m\n\u001b[1;32m---> 75\u001b[1;33m         \u001b[1;32mreturn\u001b[0m \u001b[0mbinary_metric\u001b[0m\u001b[1;33m(\u001b[0m\u001b[0my_true\u001b[0m\u001b[1;33m,\u001b[0m \u001b[0my_score\u001b[0m\u001b[1;33m,\u001b[0m \u001b[0msample_weight\u001b[0m\u001b[1;33m=\u001b[0m\u001b[0msample_weight\u001b[0m\u001b[1;33m)\u001b[0m\u001b[1;33m\u001b[0m\u001b[0m\n\u001b[0m\u001b[0;32m     76\u001b[0m \u001b[1;33m\u001b[0m\u001b[0m\n\u001b[0;32m     77\u001b[0m     \u001b[0mcheck_consistent_length\u001b[0m\u001b[1;33m(\u001b[0m\u001b[0my_true\u001b[0m\u001b[1;33m,\u001b[0m \u001b[0my_score\u001b[0m\u001b[1;33m,\u001b[0m \u001b[0msample_weight\u001b[0m\u001b[1;33m)\u001b[0m\u001b[1;33m\u001b[0m\u001b[0m\n",
      "\u001b[1;32m~\\AppData\\Local\\Programs\\Python\\Python37\\lib\\site-packages\\sklearn\\metrics\\_ranking.py\u001b[0m in \u001b[0;36m_binary_roc_auc_score\u001b[1;34m(y_true, y_score, sample_weight, max_fpr)\u001b[0m\n\u001b[0;32m    340\u001b[0m         )\n\u001b[0;32m    341\u001b[0m \u001b[1;33m\u001b[0m\u001b[0m\n\u001b[1;32m--> 342\u001b[1;33m     \u001b[0mfpr\u001b[0m\u001b[1;33m,\u001b[0m \u001b[0mtpr\u001b[0m\u001b[1;33m,\u001b[0m \u001b[0m_\u001b[0m \u001b[1;33m=\u001b[0m \u001b[0mroc_curve\u001b[0m\u001b[1;33m(\u001b[0m\u001b[0my_true\u001b[0m\u001b[1;33m,\u001b[0m \u001b[0my_score\u001b[0m\u001b[1;33m,\u001b[0m \u001b[0msample_weight\u001b[0m\u001b[1;33m=\u001b[0m\u001b[0msample_weight\u001b[0m\u001b[1;33m)\u001b[0m\u001b[1;33m\u001b[0m\u001b[0m\n\u001b[0m\u001b[0;32m    343\u001b[0m     \u001b[1;32mif\u001b[0m \u001b[0mmax_fpr\u001b[0m \u001b[1;32mis\u001b[0m \u001b[1;32mNone\u001b[0m \u001b[1;32mor\u001b[0m \u001b[0mmax_fpr\u001b[0m \u001b[1;33m==\u001b[0m \u001b[1;36m1\u001b[0m\u001b[1;33m:\u001b[0m\u001b[1;33m\u001b[0m\u001b[0m\n\u001b[0;32m    344\u001b[0m         \u001b[1;32mreturn\u001b[0m \u001b[0mauc\u001b[0m\u001b[1;33m(\u001b[0m\u001b[0mfpr\u001b[0m\u001b[1;33m,\u001b[0m \u001b[0mtpr\u001b[0m\u001b[1;33m)\u001b[0m\u001b[1;33m\u001b[0m\u001b[0m\n",
      "\u001b[1;32m~\\AppData\\Local\\Programs\\Python\\Python37\\lib\\site-packages\\sklearn\\metrics\\_ranking.py\u001b[0m in \u001b[0;36mroc_curve\u001b[1;34m(y_true, y_score, pos_label, sample_weight, drop_intermediate)\u001b[0m\n\u001b[0;32m    961\u001b[0m     \"\"\"\n\u001b[0;32m    962\u001b[0m     fps, tps, thresholds = _binary_clf_curve(\n\u001b[1;32m--> 963\u001b[1;33m         \u001b[0my_true\u001b[0m\u001b[1;33m,\u001b[0m \u001b[0my_score\u001b[0m\u001b[1;33m,\u001b[0m \u001b[0mpos_label\u001b[0m\u001b[1;33m=\u001b[0m\u001b[0mpos_label\u001b[0m\u001b[1;33m,\u001b[0m \u001b[0msample_weight\u001b[0m\u001b[1;33m=\u001b[0m\u001b[0msample_weight\u001b[0m\u001b[1;33m\u001b[0m\u001b[0m\n\u001b[0m\u001b[0;32m    964\u001b[0m     )\n\u001b[0;32m    965\u001b[0m \u001b[1;33m\u001b[0m\u001b[0m\n",
      "\u001b[1;32m~\\AppData\\Local\\Programs\\Python\\Python37\\lib\\site-packages\\sklearn\\metrics\\_ranking.py\u001b[0m in \u001b[0;36m_binary_clf_curve\u001b[1;34m(y_true, y_score, pos_label, sample_weight)\u001b[0m\n\u001b[0;32m    731\u001b[0m         \u001b[1;32mraise\u001b[0m \u001b[0mValueError\u001b[0m\u001b[1;33m(\u001b[0m\u001b[1;34m\"{0} format is not supported\"\u001b[0m\u001b[1;33m.\u001b[0m\u001b[0mformat\u001b[0m\u001b[1;33m(\u001b[0m\u001b[0my_type\u001b[0m\u001b[1;33m)\u001b[0m\u001b[1;33m)\u001b[0m\u001b[1;33m\u001b[0m\u001b[0m\n\u001b[0;32m    732\u001b[0m \u001b[1;33m\u001b[0m\u001b[0m\n\u001b[1;32m--> 733\u001b[1;33m     \u001b[0mcheck_consistent_length\u001b[0m\u001b[1;33m(\u001b[0m\u001b[0my_true\u001b[0m\u001b[1;33m,\u001b[0m \u001b[0my_score\u001b[0m\u001b[1;33m,\u001b[0m \u001b[0msample_weight\u001b[0m\u001b[1;33m)\u001b[0m\u001b[1;33m\u001b[0m\u001b[0m\n\u001b[0m\u001b[0;32m    734\u001b[0m     \u001b[0my_true\u001b[0m \u001b[1;33m=\u001b[0m \u001b[0mcolumn_or_1d\u001b[0m\u001b[1;33m(\u001b[0m\u001b[0my_true\u001b[0m\u001b[1;33m)\u001b[0m\u001b[1;33m\u001b[0m\u001b[0m\n\u001b[0;32m    735\u001b[0m     \u001b[0my_score\u001b[0m \u001b[1;33m=\u001b[0m \u001b[0mcolumn_or_1d\u001b[0m\u001b[1;33m(\u001b[0m\u001b[0my_score\u001b[0m\u001b[1;33m)\u001b[0m\u001b[1;33m\u001b[0m\u001b[0m\n",
      "\u001b[1;32m~\\AppData\\Local\\Programs\\Python\\Python37\\lib\\site-packages\\sklearn\\utils\\validation.py\u001b[0m in \u001b[0;36mcheck_consistent_length\u001b[1;34m(*arrays)\u001b[0m\n\u001b[0;32m    332\u001b[0m         raise ValueError(\n\u001b[0;32m    333\u001b[0m             \u001b[1;34m\"Found input variables with inconsistent numbers of samples: %r\"\u001b[0m\u001b[1;33m\u001b[0m\u001b[0m\n\u001b[1;32m--> 334\u001b[1;33m             \u001b[1;33m%\u001b[0m \u001b[1;33m[\u001b[0m\u001b[0mint\u001b[0m\u001b[1;33m(\u001b[0m\u001b[0ml\u001b[0m\u001b[1;33m)\u001b[0m \u001b[1;32mfor\u001b[0m \u001b[0ml\u001b[0m \u001b[1;32min\u001b[0m \u001b[0mlengths\u001b[0m\u001b[1;33m]\u001b[0m\u001b[1;33m\u001b[0m\u001b[0m\n\u001b[0m\u001b[0;32m    335\u001b[0m         )\n\u001b[0;32m    336\u001b[0m \u001b[1;33m\u001b[0m\u001b[0m\n",
      "\u001b[1;31mValueError\u001b[0m: Found input variables with inconsistent numbers of samples: [4000, 1456]"
     ]
    }
   ],
   "source": [
    "lgm_os = LGBMClassifier(boosting_type='goss', num_leaves=40, max_dept=10, learning_rate=0.1, n_estimators=50)\n",
    "lgm_os.fit(X_train_pca_os, y_os)\n",
    "y_pred = lgm_os.predict(X_test_pca_os)\n",
    "\n",
    "print(roc_auc_score(true_label, y_pred))\n",
    "print('--'*20)\n",
    "\n",
    "print(classification_report(y_test, y_pred))\n",
    "plot_roc_curve(lgm_os, X_test_pca_os, y_test)\n",
    "\n",
    "lgm_os_ = pd.DataFrame({'OverSampling':[accuracy_score(y_test, y_pred),precision_score(y_test, y_pred), recall_score(y_test, y_pred), f1_score(y_test, y_pred), roc_auc_score(y_test, y_pred)]}, index=['accuracy', 'precision', 'recall', 'f1_score', 'AUC'])\n",
    "summary_lgm = pd.concat([summary_lgm, lgm_os_], axis=1)"
   ]
  },
  {
   "cell_type": "code",
   "execution_count": 87,
   "id": "959e77b6-384f-4992-931f-e5456ce7024f",
   "metadata": {},
   "outputs": [
    {
     "name": "stdout",
     "output_type": "stream",
     "text": [
      "[LightGBM] [Warning] Unknown parameter: max_dept\n",
      "0.6265748388674572\n",
      "----------------------------------------\n",
      "              precision    recall  f1-score   support\n",
      "\n",
      "           0       0.96      0.63      0.76      1363\n",
      "           1       0.10      0.62      0.18        93\n",
      "\n",
      "    accuracy                           0.63      1456\n",
      "   macro avg       0.53      0.63      0.47      1456\n",
      "weighted avg       0.91      0.63      0.72      1456\n",
      "\n"
     ]
    },
    {
     "name": "stderr",
     "output_type": "stream",
     "text": [
      "C:\\Users\\Admin\\AppData\\Local\\Programs\\Python\\Python37\\lib\\site-packages\\sklearn\\utils\\deprecation.py:87: FutureWarning: Function plot_roc_curve is deprecated; Function :func:`plot_roc_curve` is deprecated in 1.0 and will be removed in 1.2. Use one of the class methods: :meth:`sklearn.metric.RocCurveDisplay.from_predictions` or :meth:`sklearn.metric.RocCurveDisplay.from_estimator`.\n",
      "  warnings.warn(msg, category=FutureWarning)\n"
     ]
    },
    {
     "data": {
      "image/png": "[encoded data removed]",
      "text/plain": [
       "<Figure size 640x480 with 1 Axes>"
      ]
     },
     "metadata": {},
     "output_type": "display_data"
    }
   ],
   "source": [
    "lgm_us = LGBMClassifier(boosting_type='goss', num_leaves=40, max_dept=10, learning_rate=0.1, n_estimators=50)\n",
    "lgm_us.fit(X_train_pca_us, y_us)\n",
    "y_pred = lgm_us.predict(X_test_pca_us)\n",
    "\n",
    "print(roc_auc_score(y_test, y_pred))\n",
    "print('--'*20)\n",
    "\n",
    "print(classification_report(y_test, y_pred))\n",
    "plot_roc_curve(lgm_us, X_test_pca_us, y_test)\n",
    "\n",
    "lgm_us = pd.DataFrame({'UnderSampling':[accuracy_score(y_test, y_pred),precision_score(y_test, y_pred), recall_score(y_test, y_pred), f1_score(y_test, y_pred), roc_auc_score(y_test, y_pred)]}, index=['accuracy', 'precision', 'recall', 'f1_score', 'AUC'])\n",
    "summary_lgm = pd.concat([summary_lgm, lgm_us], axis=1)"
   ]
  },
  {
   "cell_type": "markdown",
   "id": "71b0e699-b4c1-4794-bf4f-c183c2157ebd",
   "metadata": {},
   "source": [
    "# 4. Logistic Regression"
   ]
  },
  {
   "cell_type": "markdown",
   "id": "2035937e-a4fd-4b0b-bb32-a96af1eca5e0",
   "metadata": {},
   "source": [
    "## SMOTE"
   ]
  },
  {
   "cell_type": "code",
   "execution_count": 88,
   "id": "bdc04b27-e01c-4575-84ea-100a91c14039",
   "metadata": {},
   "outputs": [
    {
     "name": "stdout",
     "output_type": "stream",
     "text": [
      "0.6614126018665341\n",
      "----------------------------------------\n",
      "              precision    recall  f1-score   support\n",
      "\n",
      "           0       0.97      0.67      0.79      1363\n",
      "           1       0.12      0.66      0.20        93\n",
      "\n",
      "    accuracy                           0.67      1456\n",
      "   macro avg       0.54      0.66      0.49      1456\n",
      "weighted avg       0.91      0.67      0.75      1456\n",
      "\n"
     ]
    },
    {
     "name": "stderr",
     "output_type": "stream",
     "text": [
      "C:\\Users\\Admin\\AppData\\Local\\Programs\\Python\\Python37\\lib\\site-packages\\sklearn\\utils\\deprecation.py:87: FutureWarning: Function plot_roc_curve is deprecated; Function :func:`plot_roc_curve` is deprecated in 1.0 and will be removed in 1.2. Use one of the class methods: :meth:`sklearn.metric.RocCurveDisplay.from_predictions` or :meth:`sklearn.metric.RocCurveDisplay.from_estimator`.\n",
      "  warnings.warn(msg, category=FutureWarning)\n"
     ]
    },
    {
     "data": {
      "image/png": "[encoded data removed]",
      "text/plain": [
       "<Figure size 640x480 with 1 Axes>"
      ]
     },
     "metadata": {},
     "output_type": "display_data"
    }
   ],
   "source": [
    "\n",
    "lr_res = LogisticRegression()\n",
    "lr_res.fit(X_train_pca_res, y_res)\n",
    "y_pred = lr_res.predict(X_test_pca_res)\n",
    "\n",
    "print(roc_auc_score(y_test, y_pred))\n",
    "print('--'*20)\n",
    "\n",
    "print(classification_report(y_test, y_pred))\n",
    "plot_roc_curve(lr_res, X_test_pca_res, y_test)\n",
    "\n",
    "summary_lr = pd.DataFrame({'SMOTE':[accuracy_score(y_test, y_pred),precision_score(y_test, y_pred), recall_score(y_test, y_pred), f1_score(y_test, y_pred), roc_auc_score(y_test, y_pred)]}, index=['accuracy', 'precision', 'recall', 'f1_score', 'AUC'])"
   ]
  },
  {
   "cell_type": "markdown",
   "id": "725bf3de-56f2-4207-bd6b-acb99f82b045",
   "metadata": {},
   "source": [
    "## UnderSampling"
   ]
  },
  {
   "cell_type": "code",
   "execution_count": 89,
   "id": "4c540885-1ae2-4cc3-8b4c-d0c84327d92e",
   "metadata": {},
   "outputs": [
    {
     "name": "stdout",
     "output_type": "stream",
     "text": [
      "0.6388067119494474\n",
      "----------------------------------------\n",
      "              precision    recall  f1-score   support\n",
      "\n",
      "           0       0.96      0.66      0.79      1363\n",
      "           1       0.11      0.61      0.19        93\n",
      "\n",
      "    accuracy                           0.66      1456\n",
      "   macro avg       0.54      0.64      0.49      1456\n",
      "weighted avg       0.91      0.66      0.75      1456\n",
      "\n"
     ]
    },
    {
     "name": "stderr",
     "output_type": "stream",
     "text": [
      "C:\\Users\\Admin\\AppData\\Local\\Programs\\Python\\Python37\\lib\\site-packages\\sklearn\\utils\\deprecation.py:87: FutureWarning: Function plot_roc_curve is deprecated; Function :func:`plot_roc_curve` is deprecated in 1.0 and will be removed in 1.2. Use one of the class methods: :meth:`sklearn.metric.RocCurveDisplay.from_predictions` or :meth:`sklearn.metric.RocCurveDisplay.from_estimator`.\n",
      "  warnings.warn(msg, category=FutureWarning)\n"
     ]
    },
    {
     "data": {
      "image/png": "[encoded data removed]",
      "text/plain": [
       "<Figure size 640x480 with 1 Axes>"
      ]
     },
     "metadata": {},
     "output_type": "display_data"
    }
   ],
   "source": [
    "\n",
    "lr_us = LogisticRegression()\n",
    "lr_us.fit(X_train_pca_us, y_us)\n",
    "y_pred = lr_us.predict(X_test_pca_us)\n",
    "\n",
    "print(roc_auc_score(y_test, y_pred))\n",
    "print('--'*20)\n",
    "\n",
    "print(classification_report(y_test, y_pred))\n",
    "plot_roc_curve(lr_us, X_test_pca_us, y_test)\n",
    "\n",
    "lrus_sum = pd.DataFrame({'UnderSampling':[accuracy_score(y_test, y_pred),precision_score(y_test, y_pred), recall_score(y_test, y_pred), f1_score(y_test, y_pred), roc_auc_score(y_test, y_pred)]}, index=['accuracy', 'precision', 'recall', 'f1_score', 'AUC'])\n",
    "summary_lr = pd.concat([summary_lr, lrus_sum], axis=1)"
   ]
  },
  {
   "cell_type": "markdown",
   "id": "72543501-5ca3-4b59-aa8a-fb34e570edf4",
   "metadata": {},
   "source": [
    "## OverSampling"
   ]
  },
  {
   "cell_type": "code",
   "execution_count": 90,
   "id": "1ac9776c-ab59-4e36-b75b-6d3604fe9526",
   "metadata": {},
   "outputs": [
    {
     "name": "stdout",
     "output_type": "stream",
     "text": [
      "0.6595784125781994\n",
      "----------------------------------------\n",
      "              precision    recall  f1-score   support\n",
      "\n",
      "           0       0.97      0.66      0.79      1363\n",
      "           1       0.12      0.66      0.20        93\n",
      "\n",
      "    accuracy                           0.66      1456\n",
      "   macro avg       0.54      0.66      0.49      1456\n",
      "weighted avg       0.91      0.66      0.75      1456\n",
      "\n"
     ]
    },
    {
     "name": "stderr",
     "output_type": "stream",
     "text": [
      "C:\\Users\\Admin\\AppData\\Local\\Programs\\Python\\Python37\\lib\\site-packages\\sklearn\\utils\\deprecation.py:87: FutureWarning: Function plot_roc_curve is deprecated; Function :func:`plot_roc_curve` is deprecated in 1.0 and will be removed in 1.2. Use one of the class methods: :meth:`sklearn.metric.RocCurveDisplay.from_predictions` or :meth:`sklearn.metric.RocCurveDisplay.from_estimator`.\n",
      "  warnings.warn(msg, category=FutureWarning)\n"
     ]
    },
    {
     "data": {
      "image/png": "[encoded data removed]",
      "text/plain": [
       "<Figure size 640x480 with 1 Axes>"
      ]
     },
     "metadata": {},
     "output_type": "display_data"
    }
   ],
   "source": [
    "\n",
    "lr_os = LogisticRegression()\n",
    "lr_os.fit(X_train_pca_os, y_os)\n",
    "y_pred = lr_os.predict(X_test_pca_os)\n",
    "\n",
    "print(roc_auc_score(y_test, y_pred))\n",
    "print('--'*20)\n",
    "\n",
    "print(classification_report(y_test, y_pred))\n",
    "plot_roc_curve(lr_os, X_test_pca_os, y_test)\n",
    "\n",
    "lros_sum = pd.DataFrame({'OverSampling':[accuracy_score(y_test, y_pred),precision_score(y_test, y_pred), recall_score(y_test, y_pred), f1_score(y_test, y_pred), roc_auc_score(y_test, y_pred)]}, index=['accuracy', 'precision', 'recall', 'f1_score', 'AUC'])\n",
    "summary_lr = pd.concat([summary_lr, lros_sum], axis=1)"
   ]
  },
  {
   "cell_type": "code",
   "execution_count": 91,
   "id": "30ba6f92-aee1-48a0-a984-69e1d3aacbf6",
   "metadata": {},
   "outputs": [
    {
     "data": {
      "text/html": [
       "<div>\n",
       "<style scoped>\n",
       "    .dataframe tbody tr th:only-of-type {\n",
       "        vertical-align: middle;\n",
       "    }\n",
       "\n",
       "    .dataframe tbody tr th {\n",
       "        vertical-align: top;\n",
       "    }\n",
       "\n",
       "    .dataframe thead th {\n",
       "        text-align: right;\n",
       "    }\n",
       "</style>\n",
       "<table border=\"1\" class=\"dataframe\">\n",
       "  <thead>\n",
       "    <tr style=\"text-align: right;\">\n",
       "      <th></th>\n",
       "      <th>SMOTE</th>\n",
       "      <th>UnderSampling</th>\n",
       "      <th>OverSampling</th>\n",
       "    </tr>\n",
       "  </thead>\n",
       "  <tbody>\n",
       "    <tr>\n",
       "      <th>accuracy</th>\n",
       "      <td>0.666209</td>\n",
       "      <td>0.661401</td>\n",
       "      <td>0.662775</td>\n",
       "    </tr>\n",
       "    <tr>\n",
       "      <th>precision</th>\n",
       "      <td>0.118447</td>\n",
       "      <td>0.110895</td>\n",
       "      <td>0.117308</td>\n",
       "    </tr>\n",
       "    <tr>\n",
       "      <th>recall</th>\n",
       "      <td>0.655914</td>\n",
       "      <td>0.612903</td>\n",
       "      <td>0.655914</td>\n",
       "    </tr>\n",
       "    <tr>\n",
       "      <th>f1_score</th>\n",
       "      <td>0.200658</td>\n",
       "      <td>0.187809</td>\n",
       "      <td>0.199021</td>\n",
       "    </tr>\n",
       "    <tr>\n",
       "      <th>AUC</th>\n",
       "      <td>0.661413</td>\n",
       "      <td>0.638807</td>\n",
       "      <td>0.659578</td>\n",
       "    </tr>\n",
       "  </tbody>\n",
       "</table>\n",
       "</div>"
      ],
      "text/plain": [
       "              SMOTE  UnderSampling  OverSampling\n",
       "accuracy   0.666209       0.661401      0.662775\n",
       "precision  0.118447       0.110895      0.117308\n",
       "recall     0.655914       0.612903      0.655914\n",
       "f1_score   0.200658       0.187809      0.199021\n",
       "AUC        0.661413       0.638807      0.659578"
      ]
     },
     "execution_count": 91,
     "metadata": {},
     "output_type": "execute_result"
    }
   ],
   "source": [
    "summary_lr"
   ]
  },
  {
   "cell_type": "code",
   "execution_count": 92,
   "id": "b5d38405-9913-40c5-989d-3ab2d5bfd7d0",
   "metadata": {},
   "outputs": [],
   "source": [
    "summary_total = pd.concat([summary, summary_rf, summary_lr, summary_lgm], axis=1, keys =['LinearDiscriminateAnalysis', 'RandomForestClassifier', 'LogisticRegression', 'LGBMClassifier'])"
   ]
  },
  {
   "cell_type": "code",
   "execution_count": 93,
   "id": "b5b26ef3-6273-45d8-9f2c-5d47565cb9f3",
   "metadata": {},
   "outputs": [],
   "source": [
    "summary_total.to_csv('Models_summary/resample_technique_tuning.csv')"
   ]
  },
  {
   "cell_type": "code",
   "execution_count": 94,
   "id": "b27310ec-b6b7-4396-b7c2-c3a50059e232",
   "metadata": {},
   "outputs": [
    {
     "data": {
      "text/html": [
       "<div>\n",
       "<style scoped>\n",
       "    .dataframe tbody tr th:only-of-type {\n",
       "        vertical-align: middle;\n",
       "    }\n",
       "\n",
       "    .dataframe tbody tr th {\n",
       "        vertical-align: top;\n",
       "    }\n",
       "\n",
       "    .dataframe thead tr th {\n",
       "        text-align: left;\n",
       "    }\n",
       "</style>\n",
       "<table border=\"1\" class=\"dataframe\">\n",
       "  <thead>\n",
       "    <tr>\n",
       "      <th></th>\n",
       "      <th colspan=\"3\" halign=\"left\">LinearDiscriminateAnalysis</th>\n",
       "      <th colspan=\"3\" halign=\"left\">RandomForestClassifier</th>\n",
       "      <th colspan=\"3\" halign=\"left\">LogisticRegression</th>\n",
       "      <th colspan=\"2\" halign=\"left\">LGBMClassifier</th>\n",
       "    </tr>\n",
       "    <tr>\n",
       "      <th></th>\n",
       "      <th>SMOTE</th>\n",
       "      <th>UnderSampling</th>\n",
       "      <th>OverSampling</th>\n",
       "      <th>SMOTE</th>\n",
       "      <th>UnderSampling</th>\n",
       "      <th>OverSampling</th>\n",
       "      <th>SMOTE</th>\n",
       "      <th>UnderSampling</th>\n",
       "      <th>OverSampling</th>\n",
       "      <th>SMOTE</th>\n",
       "      <th>UnderSampling</th>\n",
       "    </tr>\n",
       "  </thead>\n",
       "  <tbody>\n",
       "    <tr>\n",
       "      <th>accuracy</th>\n",
       "      <td>0.655220</td>\n",
       "      <td>0.657967</td>\n",
       "      <td>0.652473</td>\n",
       "      <td>0.857830</td>\n",
       "      <td>0.631868</td>\n",
       "      <td>0.921016</td>\n",
       "      <td>0.666209</td>\n",
       "      <td>0.661401</td>\n",
       "      <td>0.662775</td>\n",
       "      <td>0.794643</td>\n",
       "      <td>0.629121</td>\n",
       "    </tr>\n",
       "    <tr>\n",
       "      <th>precision</th>\n",
       "      <td>0.117757</td>\n",
       "      <td>0.109827</td>\n",
       "      <td>0.114019</td>\n",
       "      <td>0.109589</td>\n",
       "      <td>0.106572</td>\n",
       "      <td>0.225000</td>\n",
       "      <td>0.118447</td>\n",
       "      <td>0.110895</td>\n",
       "      <td>0.117308</td>\n",
       "      <td>0.118519</td>\n",
       "      <td>0.103020</td>\n",
       "    </tr>\n",
       "    <tr>\n",
       "      <th>recall</th>\n",
       "      <td>0.677419</td>\n",
       "      <td>0.612903</td>\n",
       "      <td>0.655914</td>\n",
       "      <td>0.172043</td>\n",
       "      <td>0.645161</td>\n",
       "      <td>0.096774</td>\n",
       "      <td>0.655914</td>\n",
       "      <td>0.612903</td>\n",
       "      <td>0.655914</td>\n",
       "      <td>0.344086</td>\n",
       "      <td>0.623656</td>\n",
       "    </tr>\n",
       "    <tr>\n",
       "      <th>f1_score</th>\n",
       "      <td>0.200637</td>\n",
       "      <td>0.186275</td>\n",
       "      <td>0.194268</td>\n",
       "      <td>0.133891</td>\n",
       "      <td>0.182927</td>\n",
       "      <td>0.135338</td>\n",
       "      <td>0.200658</td>\n",
       "      <td>0.187809</td>\n",
       "      <td>0.199021</td>\n",
       "      <td>0.176309</td>\n",
       "      <td>0.176829</td>\n",
       "    </tr>\n",
       "    <tr>\n",
       "      <th>AUC</th>\n",
       "      <td>0.665562</td>\n",
       "      <td>0.636973</td>\n",
       "      <td>0.654076</td>\n",
       "      <td>0.538333</td>\n",
       "      <td>0.638061</td>\n",
       "      <td>0.537015</td>\n",
       "      <td>0.661413</td>\n",
       "      <td>0.638807</td>\n",
       "      <td>0.659578</td>\n",
       "      <td>0.584736</td>\n",
       "      <td>0.626575</td>\n",
       "    </tr>\n",
       "  </tbody>\n",
       "</table>\n",
       "</div>"
      ],
      "text/plain": [
       "          LinearDiscriminateAnalysis                             \\\n",
       "                               SMOTE UnderSampling OverSampling   \n",
       "accuracy                    0.655220      0.657967     0.652473   \n",
       "precision                   0.117757      0.109827     0.114019   \n",
       "recall                      0.677419      0.612903     0.655914   \n",
       "f1_score                    0.200637      0.186275     0.194268   \n",
       "AUC                         0.665562      0.636973     0.654076   \n",
       "\n",
       "          RandomForestClassifier                             \\\n",
       "                           SMOTE UnderSampling OverSampling   \n",
       "accuracy                0.857830      0.631868     0.921016   \n",
       "precision               0.109589      0.106572     0.225000   \n",
       "recall                  0.172043      0.645161     0.096774   \n",
       "f1_score                0.133891      0.182927     0.135338   \n",
       "AUC                     0.538333      0.638061     0.537015   \n",
       "\n",
       "          LogisticRegression                            LGBMClassifier  \\\n",
       "                       SMOTE UnderSampling OverSampling          SMOTE   \n",
       "accuracy            0.666209      0.661401     0.662775       0.794643   \n",
       "precision           0.118447      0.110895     0.117308       0.118519   \n",
       "recall              0.655914      0.612903     0.655914       0.344086   \n",
       "f1_score            0.200658      0.187809     0.199021       0.176309   \n",
       "AUC                 0.661413      0.638807     0.659578       0.584736   \n",
       "\n",
       "                         \n",
       "          UnderSampling  \n",
       "accuracy       0.629121  \n",
       "precision      0.103020  \n",
       "recall         0.623656  \n",
       "f1_score       0.176829  \n",
       "AUC            0.626575  "
      ]
     },
     "execution_count": 94,
     "metadata": {},
     "output_type": "execute_result"
    }
   ],
   "source": [
    "summary_total"
   ]
  },
  {
   "cell_type": "markdown",
   "id": "c775f24f-76f8-4e21-b96a-8c69d5e0357c",
   "metadata": {},
   "source": [
    "## CONCLUSION 1"
   ]
  },
  {
   "cell_type": "markdown",
   "id": "620d2418-75af-48c5-a5cc-a2b7e9ff3942",
   "metadata": {},
   "source": [
    "From summary dataframe, the best option in this projects is SMOTE with LinearDiscriminateAnalysis algorithm. "
   ]
  },
  {
   "cell_type": "markdown",
   "id": "e144ef83-0a45-4f78-85e7-7c14e1da7b91",
   "metadata": {},
   "source": [
    "# EVALUTATE ON TESTSET"
   ]
  },
  {
   "cell_type": "code",
   "execution_count": 95,
   "id": "eb3d5621-8653-46d1-afbc-ef3b5615398d",
   "metadata": {},
   "outputs": [],
   "source": [
    "testset = pd.read_csv('data/test_data.txt', sep=',')"
   ]
  },
  {
   "cell_type": "code",
   "execution_count": 96,
   "id": "ebef69ce-63f7-4ac6-a902-81d75c87fb67",
   "metadata": {},
   "outputs": [
    {
     "data": {
      "text/html": [
       "<div>\n",
       "<style scoped>\n",
       "    .dataframe tbody tr th:only-of-type {\n",
       "        vertical-align: middle;\n",
       "    }\n",
       "\n",
       "    .dataframe tbody tr th {\n",
       "        vertical-align: top;\n",
       "    }\n",
       "\n",
       "    .dataframe thead th {\n",
       "        text-align: right;\n",
       "    }\n",
       "</style>\n",
       "<table border=\"1\" class=\"dataframe\">\n",
       "  <thead>\n",
       "    <tr style=\"text-align: right;\">\n",
       "      <th></th>\n",
       "      <th>ID</th>\n",
       "      <th>1</th>\n",
       "      <th>2</th>\n",
       "      <th>3</th>\n",
       "      <th>4</th>\n",
       "      <th>5</th>\n",
       "      <th>6</th>\n",
       "      <th>7</th>\n",
       "      <th>8</th>\n",
       "      <th>9</th>\n",
       "      <th>...</th>\n",
       "      <th>76</th>\n",
       "      <th>77</th>\n",
       "      <th>78</th>\n",
       "      <th>79</th>\n",
       "      <th>80</th>\n",
       "      <th>81</th>\n",
       "      <th>82</th>\n",
       "      <th>83</th>\n",
       "      <th>84</th>\n",
       "      <th>85</th>\n",
       "    </tr>\n",
       "  </thead>\n",
       "  <tbody>\n",
       "    <tr>\n",
       "      <th>0</th>\n",
       "      <td>1</td>\n",
       "      <td>33</td>\n",
       "      <td>1</td>\n",
       "      <td>4</td>\n",
       "      <td>2</td>\n",
       "      <td>8</td>\n",
       "      <td>0</td>\n",
       "      <td>6</td>\n",
       "      <td>0</td>\n",
       "      <td>3</td>\n",
       "      <td>...</td>\n",
       "      <td>0</td>\n",
       "      <td>0</td>\n",
       "      <td>0</td>\n",
       "      <td>0</td>\n",
       "      <td>1</td>\n",
       "      <td>0</td>\n",
       "      <td>0</td>\n",
       "      <td>0</td>\n",
       "      <td>0</td>\n",
       "      <td>0</td>\n",
       "    </tr>\n",
       "    <tr>\n",
       "      <th>1</th>\n",
       "      <td>2</td>\n",
       "      <td>6</td>\n",
       "      <td>1</td>\n",
       "      <td>3</td>\n",
       "      <td>2</td>\n",
       "      <td>2</td>\n",
       "      <td>0</td>\n",
       "      <td>5</td>\n",
       "      <td>0</td>\n",
       "      <td>4</td>\n",
       "      <td>...</td>\n",
       "      <td>2</td>\n",
       "      <td>0</td>\n",
       "      <td>0</td>\n",
       "      <td>0</td>\n",
       "      <td>1</td>\n",
       "      <td>0</td>\n",
       "      <td>0</td>\n",
       "      <td>0</td>\n",
       "      <td>0</td>\n",
       "      <td>0</td>\n",
       "    </tr>\n",
       "    <tr>\n",
       "      <th>2</th>\n",
       "      <td>3</td>\n",
       "      <td>39</td>\n",
       "      <td>1</td>\n",
       "      <td>3</td>\n",
       "      <td>3</td>\n",
       "      <td>9</td>\n",
       "      <td>1</td>\n",
       "      <td>4</td>\n",
       "      <td>2</td>\n",
       "      <td>3</td>\n",
       "      <td>...</td>\n",
       "      <td>1</td>\n",
       "      <td>0</td>\n",
       "      <td>0</td>\n",
       "      <td>0</td>\n",
       "      <td>1</td>\n",
       "      <td>0</td>\n",
       "      <td>0</td>\n",
       "      <td>0</td>\n",
       "      <td>0</td>\n",
       "      <td>0</td>\n",
       "    </tr>\n",
       "    <tr>\n",
       "      <th>3</th>\n",
       "      <td>4</td>\n",
       "      <td>9</td>\n",
       "      <td>1</td>\n",
       "      <td>2</td>\n",
       "      <td>3</td>\n",
       "      <td>3</td>\n",
       "      <td>2</td>\n",
       "      <td>3</td>\n",
       "      <td>2</td>\n",
       "      <td>4</td>\n",
       "      <td>...</td>\n",
       "      <td>0</td>\n",
       "      <td>0</td>\n",
       "      <td>0</td>\n",
       "      <td>0</td>\n",
       "      <td>1</td>\n",
       "      <td>0</td>\n",
       "      <td>0</td>\n",
       "      <td>0</td>\n",
       "      <td>0</td>\n",
       "      <td>0</td>\n",
       "    </tr>\n",
       "    <tr>\n",
       "      <th>4</th>\n",
       "      <td>5</td>\n",
       "      <td>31</td>\n",
       "      <td>1</td>\n",
       "      <td>2</td>\n",
       "      <td>4</td>\n",
       "      <td>7</td>\n",
       "      <td>0</td>\n",
       "      <td>2</td>\n",
       "      <td>0</td>\n",
       "      <td>7</td>\n",
       "      <td>...</td>\n",
       "      <td>0</td>\n",
       "      <td>0</td>\n",
       "      <td>0</td>\n",
       "      <td>0</td>\n",
       "      <td>1</td>\n",
       "      <td>0</td>\n",
       "      <td>0</td>\n",
       "      <td>0</td>\n",
       "      <td>0</td>\n",
       "      <td>0</td>\n",
       "    </tr>\n",
       "    <tr>\n",
       "      <th>...</th>\n",
       "      <td>...</td>\n",
       "      <td>...</td>\n",
       "      <td>...</td>\n",
       "      <td>...</td>\n",
       "      <td>...</td>\n",
       "      <td>...</td>\n",
       "      <td>...</td>\n",
       "      <td>...</td>\n",
       "      <td>...</td>\n",
       "      <td>...</td>\n",
       "      <td>...</td>\n",
       "      <td>...</td>\n",
       "      <td>...</td>\n",
       "      <td>...</td>\n",
       "      <td>...</td>\n",
       "      <td>...</td>\n",
       "      <td>...</td>\n",
       "      <td>...</td>\n",
       "      <td>...</td>\n",
       "      <td>...</td>\n",
       "      <td>...</td>\n",
       "    </tr>\n",
       "    <tr>\n",
       "      <th>3995</th>\n",
       "      <td>3996</td>\n",
       "      <td>33</td>\n",
       "      <td>1</td>\n",
       "      <td>2</td>\n",
       "      <td>4</td>\n",
       "      <td>8</td>\n",
       "      <td>0</td>\n",
       "      <td>7</td>\n",
       "      <td>2</td>\n",
       "      <td>0</td>\n",
       "      <td>...</td>\n",
       "      <td>0</td>\n",
       "      <td>0</td>\n",
       "      <td>0</td>\n",
       "      <td>0</td>\n",
       "      <td>1</td>\n",
       "      <td>0</td>\n",
       "      <td>0</td>\n",
       "      <td>0</td>\n",
       "      <td>0</td>\n",
       "      <td>0</td>\n",
       "    </tr>\n",
       "    <tr>\n",
       "      <th>3996</th>\n",
       "      <td>3997</td>\n",
       "      <td>24</td>\n",
       "      <td>1</td>\n",
       "      <td>2</td>\n",
       "      <td>3</td>\n",
       "      <td>5</td>\n",
       "      <td>1</td>\n",
       "      <td>5</td>\n",
       "      <td>1</td>\n",
       "      <td>3</td>\n",
       "      <td>...</td>\n",
       "      <td>1</td>\n",
       "      <td>0</td>\n",
       "      <td>0</td>\n",
       "      <td>0</td>\n",
       "      <td>1</td>\n",
       "      <td>0</td>\n",
       "      <td>0</td>\n",
       "      <td>0</td>\n",
       "      <td>0</td>\n",
       "      <td>0</td>\n",
       "    </tr>\n",
       "    <tr>\n",
       "      <th>3997</th>\n",
       "      <td>3998</td>\n",
       "      <td>36</td>\n",
       "      <td>1</td>\n",
       "      <td>2</td>\n",
       "      <td>3</td>\n",
       "      <td>8</td>\n",
       "      <td>1</td>\n",
       "      <td>5</td>\n",
       "      <td>1</td>\n",
       "      <td>3</td>\n",
       "      <td>...</td>\n",
       "      <td>0</td>\n",
       "      <td>0</td>\n",
       "      <td>0</td>\n",
       "      <td>0</td>\n",
       "      <td>1</td>\n",
       "      <td>0</td>\n",
       "      <td>0</td>\n",
       "      <td>0</td>\n",
       "      <td>1</td>\n",
       "      <td>0</td>\n",
       "    </tr>\n",
       "    <tr>\n",
       "      <th>3998</th>\n",
       "      <td>3999</td>\n",
       "      <td>33</td>\n",
       "      <td>1</td>\n",
       "      <td>3</td>\n",
       "      <td>3</td>\n",
       "      <td>8</td>\n",
       "      <td>1</td>\n",
       "      <td>4</td>\n",
       "      <td>2</td>\n",
       "      <td>3</td>\n",
       "      <td>...</td>\n",
       "      <td>0</td>\n",
       "      <td>0</td>\n",
       "      <td>0</td>\n",
       "      <td>0</td>\n",
       "      <td>0</td>\n",
       "      <td>0</td>\n",
       "      <td>0</td>\n",
       "      <td>0</td>\n",
       "      <td>0</td>\n",
       "      <td>0</td>\n",
       "    </tr>\n",
       "    <tr>\n",
       "      <th>3999</th>\n",
       "      <td>4000</td>\n",
       "      <td>8</td>\n",
       "      <td>1</td>\n",
       "      <td>2</td>\n",
       "      <td>3</td>\n",
       "      <td>2</td>\n",
       "      <td>4</td>\n",
       "      <td>3</td>\n",
       "      <td>0</td>\n",
       "      <td>3</td>\n",
       "      <td>...</td>\n",
       "      <td>0</td>\n",
       "      <td>0</td>\n",
       "      <td>0</td>\n",
       "      <td>0</td>\n",
       "      <td>1</td>\n",
       "      <td>0</td>\n",
       "      <td>0</td>\n",
       "      <td>0</td>\n",
       "      <td>0</td>\n",
       "      <td>0</td>\n",
       "    </tr>\n",
       "  </tbody>\n",
       "</table>\n",
       "<p>4000 rows × 86 columns</p>\n",
       "</div>"
      ],
      "text/plain": [
       "        ID   1  2  3  4  5  6  7  8  9  ...  76  77  78  79  80  81  82  83  \\\n",
       "0        1  33  1  4  2  8  0  6  0  3  ...   0   0   0   0   1   0   0   0   \n",
       "1        2   6  1  3  2  2  0  5  0  4  ...   2   0   0   0   1   0   0   0   \n",
       "2        3  39  1  3  3  9  1  4  2  3  ...   1   0   0   0   1   0   0   0   \n",
       "3        4   9  1  2  3  3  2  3  2  4  ...   0   0   0   0   1   0   0   0   \n",
       "4        5  31  1  2  4  7  0  2  0  7  ...   0   0   0   0   1   0   0   0   \n",
       "...    ...  .. .. .. .. .. .. .. .. ..  ...  ..  ..  ..  ..  ..  ..  ..  ..   \n",
       "3995  3996  33  1  2  4  8  0  7  2  0  ...   0   0   0   0   1   0   0   0   \n",
       "3996  3997  24  1  2  3  5  1  5  1  3  ...   1   0   0   0   1   0   0   0   \n",
       "3997  3998  36  1  2  3  8  1  5  1  3  ...   0   0   0   0   1   0   0   0   \n",
       "3998  3999  33  1  3  3  8  1  4  2  3  ...   0   0   0   0   0   0   0   0   \n",
       "3999  4000   8  1  2  3  2  4  3  0  3  ...   0   0   0   0   1   0   0   0   \n",
       "\n",
       "      84  85  \n",
       "0      0   0  \n",
       "1      0   0  \n",
       "2      0   0  \n",
       "3      0   0  \n",
       "4      0   0  \n",
       "...   ..  ..  \n",
       "3995   0   0  \n",
       "3996   0   0  \n",
       "3997   1   0  \n",
       "3998   0   0  \n",
       "3999   0   0  \n",
       "\n",
       "[4000 rows x 86 columns]"
      ]
     },
     "execution_count": 96,
     "metadata": {},
     "output_type": "execute_result"
    }
   ],
   "source": [
    "testset"
   ]
  },
  {
   "cell_type": "code",
   "execution_count": 97,
   "id": "98de88d9-1769-42b0-81a9-15c07ee6a9b3",
   "metadata": {},
   "outputs": [],
   "source": [
    "test_labels = ticdata.iloc[5822:,1:]"
   ]
  },
  {
   "cell_type": "code",
   "execution_count": 98,
   "id": "61985dd3-1f18-4461-9ed5-12fe3c0a0c46",
   "metadata": {},
   "outputs": [
    {
     "data": {
      "text/plain": [
       "noinsurance    0.9405\n",
       "insurance      0.0595\n",
       "Name: CARAVAN, dtype: float64"
      ]
     },
     "execution_count": 98,
     "metadata": {},
     "output_type": "execute_result"
    }
   ],
   "source": [
    "test_labels.CARAVAN.value_counts()/test_labels.shape[0]"
   ]
  },
  {
   "cell_type": "code",
   "execution_count": 99,
   "id": "bd7ccc16-4af5-4542-8104-e8a76168fc3c",
   "metadata": {},
   "outputs": [],
   "source": [
    "columns = ['ID','Customer Subtype', 'Number of houses', 'Avg size household', 'Avg age', 'Customer main type', 'Roman catholic', 'Protestant', 'Other relition', 'No religion', 'Married', 'Living together', 'Other relation', 'Singles', 'Household without children', 'Household with children', 'High level education', 'Medium level education', 'Lower level education', 'High status', 'Entrepreneur', 'Farmer', 'Middle management', 'Skilled labourers', 'Unskilled labourers', 'Social class A', 'Social class B1', 'Social class B2', 'Social class C', 'Social class D', 'Rented house', 'Home owners', '1 car', '2 cars', 'No car', 'National Health Service', 'Private health insurance', 'Income 30.000', 'Income 30-45.000', 'Income 45-75.000', 'Income 75-122.000', 'Income>123.000', 'Average income', 'Purchasing power class', 'Contribution private third party insurance', 'Contribution third party insurance (firms)', 'Contribution third party insurance (agriculture)', 'Contribution car policies', 'Contribution delivery van policies', 'Contribution motorcycle/scooter policies', 'Contribution lorry policies', 'Contribution trailer policies', 'Contribution tractor polities', 'Contribution agricultural machines policies', 'Contribution moped policies', 'Contribution life insurances',  'Contribution private accident insurance policies', 'Contribution family accidents insurance policies', 'Contribution disability insurance policies', 'Contribution fire policies', 'Contribution surfboard policies', 'Contribution boat policies', 'Contribution bicycle policies', 'Contribution property insurance policies', 'Contribution social security insurance policies', 'Number of private third party insurance', 'Number of third party insurance (firms)', 'Number of third party insurance (agriculture)', 'Number of car policies', 'Number of delivery van policies', 'Number of motorcycle/scooter policies', 'Number of lorry policies', 'Number of trailer policies', 'Number of tractor policies', 'Number of agricultural machines policies', 'Number of moped policies', 'Number of life insurances', 'Number of private accident insurance policies', 'Number of family accidents insurance policies', 'Number of disability insurance policies', 'Number of fire policies','Number of surfboard policies', 'Number of boat policies', 'Number of bicycle policies', 'Number of property insurance policies', 'Number of social security insurance policies']"
   ]
  },
  {
   "cell_type": "code",
   "execution_count": 100,
   "id": "adc58d99-2af0-483e-a8ac-90a7671026ac",
   "metadata": {},
   "outputs": [
    {
     "data": {
      "text/html": [
       "<div>\n",
       "<style scoped>\n",
       "    .dataframe tbody tr th:only-of-type {\n",
       "        vertical-align: middle;\n",
       "    }\n",
       "\n",
       "    .dataframe tbody tr th {\n",
       "        vertical-align: top;\n",
       "    }\n",
       "\n",
       "    .dataframe thead th {\n",
       "        text-align: right;\n",
       "    }\n",
       "</style>\n",
       "<table border=\"1\" class=\"dataframe\">\n",
       "  <thead>\n",
       "    <tr style=\"text-align: right;\">\n",
       "      <th></th>\n",
       "      <th>STYPE</th>\n",
       "      <th>MAANTHUI</th>\n",
       "      <th>MGEMOMV</th>\n",
       "      <th>MGEMLEEF</th>\n",
       "      <th>MOSHOOFD</th>\n",
       "      <th>MGODRK</th>\n",
       "      <th>MGODPR</th>\n",
       "      <th>MGODOV</th>\n",
       "      <th>MGODGE</th>\n",
       "      <th>MRELGE</th>\n",
       "      <th>...</th>\n",
       "      <th>APERSONG</th>\n",
       "      <th>AGEZONG</th>\n",
       "      <th>AWAOREG</th>\n",
       "      <th>ABRAND</th>\n",
       "      <th>AZEILPL</th>\n",
       "      <th>APLEZIER</th>\n",
       "      <th>AFIETS</th>\n",
       "      <th>AINBOED</th>\n",
       "      <th>ABYSTAND</th>\n",
       "      <th>CARAVAN</th>\n",
       "    </tr>\n",
       "  </thead>\n",
       "  <tbody>\n",
       "    <tr>\n",
       "      <th>5822</th>\n",
       "      <td>Lower class large families</td>\n",
       "      <td>1</td>\n",
       "      <td>4</td>\n",
       "      <td>30-40</td>\n",
       "      <td>Family with grown ups</td>\n",
       "      <td>0%</td>\n",
       "      <td>63 - 75%</td>\n",
       "      <td>0%</td>\n",
       "      <td>24 - 36%</td>\n",
       "      <td>50 - 62%</td>\n",
       "      <td>...</td>\n",
       "      <td>0</td>\n",
       "      <td>0</td>\n",
       "      <td>0</td>\n",
       "      <td>1</td>\n",
       "      <td>0</td>\n",
       "      <td>0</td>\n",
       "      <td>0</td>\n",
       "      <td>0</td>\n",
       "      <td>0</td>\n",
       "      <td>noinsurance</td>\n",
       "    </tr>\n",
       "    <tr>\n",
       "      <th>5823</th>\n",
       "      <td>Career and childcare</td>\n",
       "      <td>1</td>\n",
       "      <td>3</td>\n",
       "      <td>30-40</td>\n",
       "      <td>Driven Growers</td>\n",
       "      <td>0%</td>\n",
       "      <td>50 - 62%</td>\n",
       "      <td>0%</td>\n",
       "      <td>37 - 49%</td>\n",
       "      <td>50 - 62%</td>\n",
       "      <td>...</td>\n",
       "      <td>0</td>\n",
       "      <td>0</td>\n",
       "      <td>0</td>\n",
       "      <td>1</td>\n",
       "      <td>0</td>\n",
       "      <td>0</td>\n",
       "      <td>0</td>\n",
       "      <td>0</td>\n",
       "      <td>0</td>\n",
       "      <td>insurance</td>\n",
       "    </tr>\n",
       "    <tr>\n",
       "      <th>5824</th>\n",
       "      <td>Large religous families</td>\n",
       "      <td>1</td>\n",
       "      <td>3</td>\n",
       "      <td>40-50</td>\n",
       "      <td>Conservative families</td>\n",
       "      <td>1 - 10%</td>\n",
       "      <td>37 - 49%</td>\n",
       "      <td>11 - 23%</td>\n",
       "      <td>24 - 36%</td>\n",
       "      <td>50 - 62%</td>\n",
       "      <td>...</td>\n",
       "      <td>0</td>\n",
       "      <td>0</td>\n",
       "      <td>0</td>\n",
       "      <td>1</td>\n",
       "      <td>0</td>\n",
       "      <td>0</td>\n",
       "      <td>0</td>\n",
       "      <td>0</td>\n",
       "      <td>0</td>\n",
       "      <td>noinsurance</td>\n",
       "    </tr>\n",
       "    <tr>\n",
       "      <th>5825</th>\n",
       "      <td>Modern, complete families</td>\n",
       "      <td>1</td>\n",
       "      <td>2</td>\n",
       "      <td>40-50</td>\n",
       "      <td>Average Family</td>\n",
       "      <td>11 - 23%</td>\n",
       "      <td>24 - 36%</td>\n",
       "      <td>11 - 23%</td>\n",
       "      <td>37 - 49%</td>\n",
       "      <td>50 - 62%</td>\n",
       "      <td>...</td>\n",
       "      <td>0</td>\n",
       "      <td>0</td>\n",
       "      <td>0</td>\n",
       "      <td>1</td>\n",
       "      <td>0</td>\n",
       "      <td>0</td>\n",
       "      <td>0</td>\n",
       "      <td>0</td>\n",
       "      <td>0</td>\n",
       "      <td>noinsurance</td>\n",
       "    </tr>\n",
       "    <tr>\n",
       "      <th>5826</th>\n",
       "      <td>Low income catholics</td>\n",
       "      <td>1</td>\n",
       "      <td>2</td>\n",
       "      <td>50-60</td>\n",
       "      <td>Retired and Religeous</td>\n",
       "      <td>0%</td>\n",
       "      <td>11 - 23%</td>\n",
       "      <td>0%</td>\n",
       "      <td>76 - 88%</td>\n",
       "      <td>100%</td>\n",
       "      <td>...</td>\n",
       "      <td>0</td>\n",
       "      <td>0</td>\n",
       "      <td>0</td>\n",
       "      <td>1</td>\n",
       "      <td>0</td>\n",
       "      <td>0</td>\n",
       "      <td>0</td>\n",
       "      <td>0</td>\n",
       "      <td>0</td>\n",
       "      <td>noinsurance</td>\n",
       "    </tr>\n",
       "    <tr>\n",
       "      <th>...</th>\n",
       "      <td>...</td>\n",
       "      <td>...</td>\n",
       "      <td>...</td>\n",
       "      <td>...</td>\n",
       "      <td>...</td>\n",
       "      <td>...</td>\n",
       "      <td>...</td>\n",
       "      <td>...</td>\n",
       "      <td>...</td>\n",
       "      <td>...</td>\n",
       "      <td>...</td>\n",
       "      <td>...</td>\n",
       "      <td>...</td>\n",
       "      <td>...</td>\n",
       "      <td>...</td>\n",
       "      <td>...</td>\n",
       "      <td>...</td>\n",
       "      <td>...</td>\n",
       "      <td>...</td>\n",
       "      <td>...</td>\n",
       "      <td>...</td>\n",
       "    </tr>\n",
       "    <tr>\n",
       "      <th>9817</th>\n",
       "      <td>Lower class large families</td>\n",
       "      <td>1</td>\n",
       "      <td>2</td>\n",
       "      <td>50-60</td>\n",
       "      <td>Family with grown ups</td>\n",
       "      <td>0%</td>\n",
       "      <td>76 - 88%</td>\n",
       "      <td>11 - 23%</td>\n",
       "      <td>0%</td>\n",
       "      <td>50 - 62%</td>\n",
       "      <td>...</td>\n",
       "      <td>0</td>\n",
       "      <td>0</td>\n",
       "      <td>0</td>\n",
       "      <td>1</td>\n",
       "      <td>0</td>\n",
       "      <td>0</td>\n",
       "      <td>0</td>\n",
       "      <td>0</td>\n",
       "      <td>0</td>\n",
       "      <td>noinsurance</td>\n",
       "    </tr>\n",
       "    <tr>\n",
       "      <th>9818</th>\n",
       "      <td>Young, low educated</td>\n",
       "      <td>1</td>\n",
       "      <td>2</td>\n",
       "      <td>40-50</td>\n",
       "      <td>Living well</td>\n",
       "      <td>1 - 10%</td>\n",
       "      <td>50 - 62%</td>\n",
       "      <td>1 - 10%</td>\n",
       "      <td>24 - 36%</td>\n",
       "      <td>37 - 49%</td>\n",
       "      <td>...</td>\n",
       "      <td>0</td>\n",
       "      <td>0</td>\n",
       "      <td>0</td>\n",
       "      <td>1</td>\n",
       "      <td>0</td>\n",
       "      <td>0</td>\n",
       "      <td>0</td>\n",
       "      <td>0</td>\n",
       "      <td>0</td>\n",
       "      <td>insurance</td>\n",
       "    </tr>\n",
       "    <tr>\n",
       "      <th>9819</th>\n",
       "      <td>Couples with teens 'Married with children'</td>\n",
       "      <td>1</td>\n",
       "      <td>2</td>\n",
       "      <td>40-50</td>\n",
       "      <td>Family with grown ups</td>\n",
       "      <td>1 - 10%</td>\n",
       "      <td>50 - 62%</td>\n",
       "      <td>1 - 10%</td>\n",
       "      <td>24 - 36%</td>\n",
       "      <td>76 - 88%</td>\n",
       "      <td>...</td>\n",
       "      <td>0</td>\n",
       "      <td>0</td>\n",
       "      <td>0</td>\n",
       "      <td>1</td>\n",
       "      <td>0</td>\n",
       "      <td>0</td>\n",
       "      <td>0</td>\n",
       "      <td>1</td>\n",
       "      <td>0</td>\n",
       "      <td>noinsurance</td>\n",
       "    </tr>\n",
       "    <tr>\n",
       "      <th>9820</th>\n",
       "      <td>Lower class large families</td>\n",
       "      <td>1</td>\n",
       "      <td>3</td>\n",
       "      <td>40-50</td>\n",
       "      <td>Family with grown ups</td>\n",
       "      <td>1 - 10%</td>\n",
       "      <td>37 - 49%</td>\n",
       "      <td>11 - 23%</td>\n",
       "      <td>24 - 36%</td>\n",
       "      <td>76 - 88%</td>\n",
       "      <td>...</td>\n",
       "      <td>0</td>\n",
       "      <td>0</td>\n",
       "      <td>0</td>\n",
       "      <td>0</td>\n",
       "      <td>0</td>\n",
       "      <td>0</td>\n",
       "      <td>0</td>\n",
       "      <td>0</td>\n",
       "      <td>0</td>\n",
       "      <td>noinsurance</td>\n",
       "    </tr>\n",
       "    <tr>\n",
       "      <th>9821</th>\n",
       "      <td>Middle class families</td>\n",
       "      <td>1</td>\n",
       "      <td>2</td>\n",
       "      <td>40-50</td>\n",
       "      <td>Driven Growers</td>\n",
       "      <td>37 - 49%</td>\n",
       "      <td>24 - 36%</td>\n",
       "      <td>0%</td>\n",
       "      <td>24 - 36%</td>\n",
       "      <td>50 - 62%</td>\n",
       "      <td>...</td>\n",
       "      <td>0</td>\n",
       "      <td>0</td>\n",
       "      <td>0</td>\n",
       "      <td>1</td>\n",
       "      <td>0</td>\n",
       "      <td>0</td>\n",
       "      <td>0</td>\n",
       "      <td>0</td>\n",
       "      <td>0</td>\n",
       "      <td>noinsurance</td>\n",
       "    </tr>\n",
       "  </tbody>\n",
       "</table>\n",
       "<p>4000 rows × 86 columns</p>\n",
       "</div>"
      ],
      "text/plain": [
       "                                           STYPE  MAANTHUI  MGEMOMV MGEMLEEF  \\\n",
       "5822                  Lower class large families         1        4    30-40   \n",
       "5823                        Career and childcare         1        3    30-40   \n",
       "5824                     Large religous families         1        3    40-50   \n",
       "5825                   Modern, complete families         1        2    40-50   \n",
       "5826                        Low income catholics         1        2    50-60   \n",
       "...                                          ...       ...      ...      ...   \n",
       "9817                  Lower class large families         1        2    50-60   \n",
       "9818                         Young, low educated         1        2    40-50   \n",
       "9819  Couples with teens 'Married with children'         1        2    40-50   \n",
       "9820                  Lower class large families         1        3    40-50   \n",
       "9821                       Middle class families         1        2    40-50   \n",
       "\n",
       "                   MOSHOOFD    MGODRK    MGODPR    MGODOV    MGODGE    MRELGE  \\\n",
       "5822  Family with grown ups        0%  63 - 75%        0%  24 - 36%  50 - 62%   \n",
       "5823         Driven Growers        0%  50 - 62%        0%  37 - 49%  50 - 62%   \n",
       "5824  Conservative families   1 - 10%  37 - 49%  11 - 23%  24 - 36%  50 - 62%   \n",
       "5825         Average Family  11 - 23%  24 - 36%  11 - 23%  37 - 49%  50 - 62%   \n",
       "5826  Retired and Religeous        0%  11 - 23%        0%  76 - 88%      100%   \n",
       "...                     ...       ...       ...       ...       ...       ...   \n",
       "9817  Family with grown ups        0%  76 - 88%  11 - 23%        0%  50 - 62%   \n",
       "9818            Living well   1 - 10%  50 - 62%   1 - 10%  24 - 36%  37 - 49%   \n",
       "9819  Family with grown ups   1 - 10%  50 - 62%   1 - 10%  24 - 36%  76 - 88%   \n",
       "9820  Family with grown ups   1 - 10%  37 - 49%  11 - 23%  24 - 36%  76 - 88%   \n",
       "9821         Driven Growers  37 - 49%  24 - 36%        0%  24 - 36%  50 - 62%   \n",
       "\n",
       "      ... APERSONG AGEZONG AWAOREG ABRAND AZEILPL APLEZIER AFIETS AINBOED  \\\n",
       "5822  ...        0       0       0      1       0        0      0       0   \n",
       "5823  ...        0       0       0      1       0        0      0       0   \n",
       "5824  ...        0       0       0      1       0        0      0       0   \n",
       "5825  ...        0       0       0      1       0        0      0       0   \n",
       "5826  ...        0       0       0      1       0        0      0       0   \n",
       "...   ...      ...     ...     ...    ...     ...      ...    ...     ...   \n",
       "9817  ...        0       0       0      1       0        0      0       0   \n",
       "9818  ...        0       0       0      1       0        0      0       0   \n",
       "9819  ...        0       0       0      1       0        0      0       1   \n",
       "9820  ...        0       0       0      0       0        0      0       0   \n",
       "9821  ...        0       0       0      1       0        0      0       0   \n",
       "\n",
       "     ABYSTAND      CARAVAN  \n",
       "5822        0  noinsurance  \n",
       "5823        0    insurance  \n",
       "5824        0  noinsurance  \n",
       "5825        0  noinsurance  \n",
       "5826        0  noinsurance  \n",
       "...       ...          ...  \n",
       "9817        0  noinsurance  \n",
       "9818        0    insurance  \n",
       "9819        0  noinsurance  \n",
       "9820        0  noinsurance  \n",
       "9821        0  noinsurance  \n",
       "\n",
       "[4000 rows x 86 columns]"
      ]
     },
     "execution_count": 100,
     "metadata": {},
     "output_type": "execute_result"
    }
   ],
   "source": [
    "testset.columns=columns\n",
    "testset.shape\n",
    "test_labels"
   ]
  },
  {
   "cell_type": "code",
   "execution_count": 101,
   "id": "8958b930-8fec-4a58-8462-532279ec3d02",
   "metadata": {},
   "outputs": [],
   "source": [
    "# pca_5 = PCA(n_components=5)\n",
    "# X_train_pca_5 = pca.fit_transform(X_res)\n",
    "X_test_pca_5 = pca_rs.transform(testset.iloc[:,1:])\n",
    "X_test_raw = testset[selected_feat]\n",
    "y_test = test_labels"
   ]
  },
  {
   "cell_type": "code",
   "execution_count": 112,
   "id": "10c76f66-1f85-4993-8147-8fbf21df16e6",
   "metadata": {},
   "outputs": [
    {
     "name": "stdout",
     "output_type": "stream",
     "text": [
      "Total 238 records labeled 1 (representative for buyers)\n"
     ]
    }
   ],
   "source": [
    "print(f'Total {true_label.sum()} records labeled 1 (representative for buyers)')"
   ]
  },
  {
   "cell_type": "markdown",
   "id": "7257dd53-249e-4ed8-bea5-13b6d6557810",
   "metadata": {},
   "source": [
    "## 1. LinearDiscriminantAnalysis APPLY SMOTE TECHNIQUE without PCA"
   ]
  },
  {
   "cell_type": "code",
   "execution_count": 210,
   "id": "661b7e66-e3c9-444d-8adf-2763ac636464",
   "metadata": {},
   "outputs": [],
   "source": [
    "lda = LinearDiscriminantAnalysis()\n",
    "lda.fit(X_res[selected_feat], y_res)\n",
    "y_pred = lda.predict(X_test_raw)\n",
    "y_proba0= lda.predict_proba(X_test_raw)\n",
    "results = pd.DataFrame({'Target':y_pred, \"Probability\":y_proba0[:,1]})\n",
    "results['true_label'] = true_label.values\n",
    "results.sort_values(by=['Target', 'Probability'], ascending=[False, False], inplace=True)\n",
    "results.to_csv('Model_1_LinearDiscriminantAnalysis_wt_PCA_all.csv')\n",
    "results.head(800).to_csv('Model_1_LinearDiscriminantAnalysis_wt_PCA_first_800.csv')"
   ]
  },
  {
   "cell_type": "code",
   "execution_count": 211,
   "id": "2104e9e2-621b-4ce9-9808-378e6ac487b8",
   "metadata": {},
   "outputs": [
    {
     "data": {
      "text/plain": [
       "0.51856468265137"
      ]
     },
     "execution_count": 211,
     "metadata": {},
     "output_type": "execute_result"
    }
   ],
   "source": [
    "roc_auc_score(true_label, y_pred, average='micro')"
   ]
  },
  {
   "cell_type": "code",
   "execution_count": 212,
   "id": "6c539dd5-0266-4faa-9650-ec871abcd7de",
   "metadata": {},
   "outputs": [
    {
     "data": {
      "text/plain": [
       "<AxesSubplot:>"
      ]
     },
     "execution_count": 212,
     "metadata": {},
     "output_type": "execute_result"
    },
    {
     "data": {
      "image/png": "[encoded data removed]",
      "text/plain": [
       "<Figure size 640x480 with 2 Axes>"
      ]
     },
     "metadata": {},
     "output_type": "display_data"
    }
   ],
   "source": [
    "sns.heatmap(confusion_matrix(true_label, y_pred), cmap='Pastel1', annot=True, fmt='.0f',)"
   ]
  },
  {
   "cell_type": "code",
   "execution_count": 215,
   "id": "6954ef8c-8bb0-414c-ad99-e229b1fbc3f9",
   "metadata": {},
   "outputs": [
    {
     "name": "stdout",
     "output_type": "stream",
     "text": [
      "Without PCA only 12 cases, account for 5.04% of positive casess were correctly predicted from testset\n"
     ]
    }
   ],
   "source": [
    "print(f'Without PCA only {confusion_matrix(true_label, y_pred)[1,1] } cases, account for {np.round(confusion_matrix(true_label, y_pred)[1,1]/true_label.sum()*100,2)}% of positive casess were correctly predicted from testset')"
   ]
  },
  {
   "cell_type": "code",
   "execution_count": 216,
   "id": "1549b44d-19d2-4dad-8c8a-20cc6fa3e408",
   "metadata": {},
   "outputs": [],
   "source": [
    "fpr0, tpr0, _0 = roc_curve(true_label, y_proba0[:,1])"
   ]
  },
  {
   "cell_type": "code",
   "execution_count": 217,
   "id": "be2d05f4-25c4-4e8c-8f4e-c461b91576c7",
   "metadata": {},
   "outputs": [
    {
     "name": "stderr",
     "output_type": "stream",
     "text": [
      "C:\\Users\\Admin\\AppData\\Local\\Programs\\Python\\Python37\\lib\\site-packages\\sklearn\\utils\\deprecation.py:87: FutureWarning: Function plot_roc_curve is deprecated; Function :func:`plot_roc_curve` is deprecated in 1.0 and will be removed in 1.2. Use one of the class methods: :meth:`sklearn.metric.RocCurveDisplay.from_predictions` or :meth:`sklearn.metric.RocCurveDisplay.from_estimator`.\n",
      "  warnings.warn(msg, category=FutureWarning)\n"
     ]
    },
    {
     "data": {
      "text/plain": [
       "<sklearn.metrics._plot.roc_curve.RocCurveDisplay at 0x15fa8a02940>"
      ]
     },
     "execution_count": 217,
     "metadata": {},
     "output_type": "execute_result"
    },
    {
     "data": {
      "image/png": "[encoded data removed]",
      "text/plain": [
       "<Figure size 640x480 with 1 Axes>"
      ]
     },
     "metadata": {},
     "output_type": "display_data"
    }
   ],
   "source": [
    "plot_roc_curve(lda,X_test_raw, true_label)"
   ]
  },
  {
   "cell_type": "code",
   "execution_count": 218,
   "id": "f396f674-5d25-414b-84c5-dba044f98383",
   "metadata": {},
   "outputs": [
    {
     "data": {
      "image/png": "[encoded data removed]",
      "text/plain": [
       "<Figure size 640x480 with 1 Axes>"
      ]
     },
     "metadata": {},
     "output_type": "display_data"
    }
   ],
   "source": [
    "plt.hist(y_proba0, bins=100)\n",
    "plt.show()"
   ]
  },
  {
   "cell_type": "code",
   "execution_count": 219,
   "id": "35abb01b-d85d-4744-977d-66e40f54dc36",
   "metadata": {},
   "outputs": [],
   "source": [
    "# fpr1, tpr1, _1 = roc_curve(true_label, y_proba[:,1])\n",
    "precision0, recall0, _0_ = precision_recall_curve(true_label, y_proba0[:,1])"
   ]
  },
  {
   "cell_type": "code",
   "execution_count": 220,
   "id": "15c29e20-c7e3-4deb-878c-f2aecd6c116f",
   "metadata": {},
   "outputs": [
    {
     "data": {
      "text/plain": [
       "0.05000000000000001"
      ]
     },
     "execution_count": 220,
     "metadata": {},
     "output_type": "execute_result"
    }
   ],
   "source": [
    "F_2_score=(((1+2**2)*(precision_score(true_label, y_pred)*recall_score(true_label, y_pred)))/(2**2*(precision_score(true_label, y_pred)+recall_score(true_label, y_pred))))\n",
    "F_2_score"
   ]
  },
  {
   "cell_type": "markdown",
   "id": "a1c5b70b-5561-4b51-93cd-311f4a6440ea",
   "metadata": {},
   "source": [
    "## 2. LinearDiscriminantAnalysis APPLY SMOTE TECHNIQUE + PCA FOR COVARIATE PROBLEM"
   ]
  },
  {
   "cell_type": "code",
   "execution_count": 221,
   "id": "33f3d6fd-dafd-4af6-866b-e1e6fc79bdbd",
   "metadata": {},
   "outputs": [],
   "source": [
    "pca = PCA(n_components=5)\n",
    "X_train_5 = pca.fit_transform(X_res)\n",
    "X_test_5 = pca.transform(testset.iloc[:,1:])"
   ]
  },
  {
   "cell_type": "code",
   "execution_count": 222,
   "id": "a4f1bc32-00e3-41d4-852d-0948e256cdec",
   "metadata": {},
   "outputs": [],
   "source": [
    "# pca = PCA(n_components=10)\n",
    "# X_train_10 = pca.fit_transform(X_res)\n",
    "# X_test_10 = pca.transform(testset.iloc[:,1:])\n",
    "lda = LinearDiscriminantAnalysis()\n",
    "lda.fit(X_train_5, y_res)\n",
    "y_pred = lda.predict(X_test_5)\n",
    "y_proba1 = lda.predict_proba(X_test_5)\n",
    "results = pd.DataFrame({'Target':y_pred, \"Probability\":y_proba1[:,1]})\n",
    "results['true_label'] = true_label.values\n",
    "# results['true_label'] = results['true_label'].apply(lambda x: 1 if x=='insurance' else 0)\n",
    "results.sort_values(by=['Target', 'Probability'], ascending=[False, False], inplace=True)\n",
    "results.to_csv('Model_2_LinearDiscriminantAnalysis_w_PCA_all.csv')\n",
    "results.head(800).to_csv('Model_2_LinearDiscriminantAnalysis_w_PCA_first_800.csv')"
   ]
  },
  {
   "cell_type": "code",
   "execution_count": 223,
   "id": "9e9ac73a-4151-45aa-9a3d-0bad3e9c6ca6",
   "metadata": {},
   "outputs": [
    {
     "data": {
      "text/plain": [
       "0.6363390651316347"
      ]
     },
     "execution_count": 223,
     "metadata": {},
     "output_type": "execute_result"
    }
   ],
   "source": [
    "roc_auc_score(true_label, y_pred, average='micro')"
   ]
  },
  {
   "cell_type": "code",
   "execution_count": 224,
   "id": "f164826d-c80c-4553-aff5-0b6bff30f15a",
   "metadata": {},
   "outputs": [
    {
     "data": {
      "text/plain": [
       "5822    0\n",
       "5823    1\n",
       "5824    0\n",
       "5825    0\n",
       "5826    0\n",
       "       ..\n",
       "9817    0\n",
       "9818    1\n",
       "9819    0\n",
       "9820    0\n",
       "9821    0\n",
       "Name: CARAVAN, Length: 4000, dtype: int64"
      ]
     },
     "execution_count": 224,
     "metadata": {},
     "output_type": "execute_result"
    }
   ],
   "source": [
    "true_label"
   ]
  },
  {
   "cell_type": "code",
   "execution_count": 225,
   "id": "0c6f9d92-0e69-4ecb-bcdf-8c2e5859f071",
   "metadata": {},
   "outputs": [
    {
     "name": "stdout",
     "output_type": "stream",
     "text": [
      "              precision    recall  f1-score   support\n",
      "\n",
      "           0       0.97      0.64      0.77      3762\n",
      "           1       0.10      0.63      0.17       238\n",
      "\n",
      "    accuracy                           0.64      4000\n",
      "   macro avg       0.53      0.64      0.47      4000\n",
      "weighted avg       0.91      0.64      0.73      4000\n",
      "\n"
     ]
    }
   ],
   "source": [
    "print(classification_report(true_label, y_pred))"
   ]
  },
  {
   "cell_type": "code",
   "execution_count": 226,
   "id": "2591f788-f632-40b9-a015-3f29d39251e7",
   "metadata": {},
   "outputs": [
    {
     "data": {
      "text/plain": [
       "<AxesSubplot:>"
      ]
     },
     "execution_count": 226,
     "metadata": {},
     "output_type": "execute_result"
    },
    {
     "data": {
      "image/png": "[encoded data removed]",
      "text/plain": [
       "<Figure size 640x480 with 2 Axes>"
      ]
     },
     "metadata": {},
     "output_type": "display_data"
    }
   ],
   "source": [
    "sns.heatmap(confusion_matrix(true_label, y_pred), cmap='Pastel1', annot=True, fmt='.0f',)"
   ]
  },
  {
   "cell_type": "code",
   "execution_count": 227,
   "id": "3391c245-893b-400e-ae6e-22b282a04871",
   "metadata": {},
   "outputs": [
    {
     "name": "stdout",
     "output_type": "stream",
     "text": [
      "With PCA apply after SMOTE 151 cases, account for 63.45% of positive cases, were correctly predicted from testset\n"
     ]
    }
   ],
   "source": [
    "print(f'With PCA apply after SMOTE {confusion_matrix(true_label, y_pred)[1,1] } cases, account for {np.round(confusion_matrix(true_label, y_pred)[1,1]/true_label.sum()*100,2)}% of positive cases, were correctly predicted from testset')"
   ]
  },
  {
   "cell_type": "code",
   "execution_count": 228,
   "id": "aea389a1-b7eb-46c5-9614-c5891376448f",
   "metadata": {},
   "outputs": [],
   "source": [
    "fpr1, tpr1, _1 = roc_curve(true_label, y_proba1[:,1])"
   ]
  },
  {
   "cell_type": "code",
   "execution_count": 229,
   "id": "2909009d-eeef-4378-b129-025e548b0308",
   "metadata": {},
   "outputs": [
    {
     "name": "stderr",
     "output_type": "stream",
     "text": [
      "C:\\Users\\Admin\\AppData\\Local\\Programs\\Python\\Python37\\lib\\site-packages\\sklearn\\utils\\deprecation.py:87: FutureWarning: Function plot_roc_curve is deprecated; Function :func:`plot_roc_curve` is deprecated in 1.0 and will be removed in 1.2. Use one of the class methods: :meth:`sklearn.metric.RocCurveDisplay.from_predictions` or :meth:`sklearn.metric.RocCurveDisplay.from_estimator`.\n",
      "  warnings.warn(msg, category=FutureWarning)\n"
     ]
    },
    {
     "data": {
      "text/plain": [
       "<sklearn.metrics._plot.roc_curve.RocCurveDisplay at 0x15fa7646668>"
      ]
     },
     "execution_count": 229,
     "metadata": {},
     "output_type": "execute_result"
    },
    {
     "data": {
      "image/png": "[encoded data removed]",
      "text/plain": [
       "<Figure size 640x480 with 1 Axes>"
      ]
     },
     "metadata": {},
     "output_type": "display_data"
    }
   ],
   "source": [
    "plot_roc_curve(lda,X_test_5, true_label)"
   ]
  },
  {
   "cell_type": "code",
   "execution_count": null,
   "id": "19ef4dd4-16f2-4842-8555-f5302534349e",
   "metadata": {},
   "outputs": [],
   "source": []
  },
  {
   "cell_type": "code",
   "execution_count": 230,
   "id": "22a6ae6f-b0b6-4373-a72d-7d0e8bdf8567",
   "metadata": {},
   "outputs": [
    {
     "data": {
      "text/plain": [
       "<matplotlib.legend.Legend at 0x15fa9c31cc0>"
      ]
     },
     "execution_count": 230,
     "metadata": {},
     "output_type": "execute_result"
    },
    {
     "data": {
      "image/png": "[encoded data removed]",
      "text/plain": [
       "<Figure size 640x480 with 1 Axes>"
      ]
     },
     "metadata": {},
     "output_type": "display_data"
    }
   ],
   "source": [
    "precision, recall, _ = precision_recall_curve(true_label, y_proba[:,1])\n",
    "plt.plot(recall, precision, marker='.', label='SMOTE + PCA', markersize=0.5, color='orange')\n",
    "plt.plot(recall0, precision0, marker='.', label='SMOTE ONLY', markersize=0.5, color='g')\n",
    "plt.xlabel('Recall')\n",
    "plt.ylabel('Precision')\n",
    "plt.legend()"
   ]
  },
  {
   "cell_type": "code",
   "execution_count": 232,
   "id": "99475640-1d65-4501-9ca4-41ace27175d9",
   "metadata": {},
   "outputs": [],
   "source": [
    "F_2_score=(((1+2**2)*(precision_score(true_label, y_pred)*recall_score(true_label, y_pred)))/(2**2*(precision_score(true_label, y_pred)+recall_score(true_label, y_pred))))"
   ]
  },
  {
   "cell_type": "code",
   "execution_count": 233,
   "id": "ebd6ba02-0a28-45ef-828e-75d08c13259c",
   "metadata": {},
   "outputs": [
    {
     "data": {
      "text/plain": [
       "0.10785714285714286"
      ]
     },
     "execution_count": 233,
     "metadata": {},
     "output_type": "execute_result"
    }
   ],
   "source": [
    "F_2_score"
   ]
  },
  {
   "cell_type": "code",
   "execution_count": 234,
   "id": "dd31c416-b7ed-4e28-8d12-7b6dba9a3410",
   "metadata": {},
   "outputs": [
    {
     "name": "stdout",
     "output_type": "stream",
     "text": [
      "F_2 score was 0.108, 2.6964285714285716 higher than without apply PCA\n"
     ]
    }
   ],
   "source": [
    "print(f'F_2 score was 0.108, {F_2_score/0.04} higher than without apply PCA')"
   ]
  },
  {
   "cell_type": "code",
   "execution_count": 235,
   "id": "3415ebd1-683b-4d93-b1a0-f16b392f74c5",
   "metadata": {},
   "outputs": [
    {
     "name": "stdout",
     "output_type": "stream",
     "text": [
      "Baseline: Log Loss=0.226\n",
      "Perfect: Log Loss=0.000\n"
     ]
    }
   ],
   "source": [
    "from sklearn.metrics import log_loss\n",
    "probabilities = [[len(true_label[true_label==0])/len(true_label), len(true_label[true_label==1])/len(true_label)] for _ in range(len(true_label))]\n",
    "avg_logloss = log_loss(true_label, probabilities)\n",
    "print('Baseline: Log Loss=%.3f' % (avg_logloss))\n",
    "avg_logloss = log_loss(true_label, true_label)\n",
    "print('Perfect: Log Loss=%.3f' % (avg_logloss))"
   ]
  },
  {
   "cell_type": "code",
   "execution_count": 236,
   "id": "4053d516-ae19-4273-99c8-b1ae78218a90",
   "metadata": {},
   "outputs": [
    {
     "name": "stdout",
     "output_type": "stream",
     "text": [
      "P(class0=1): Log Loss=2.055\n",
      "P(class1=1): Log Loss=32.484\n"
     ]
    }
   ],
   "source": [
    "probabilities = [[1, 0] for _ in range(len(true_label))]\n",
    "avg_logloss = log_loss(true_label, probabilities)\n",
    "print('P(class0=1): Log Loss=%.3f' % (avg_logloss))\n",
    "\n",
    "probabilities = [[ 0,1] for _ in range(len(true_label))]\n",
    "avg_logloss = log_loss(true_label, probabilities)\n",
    "print('P(class1=1): Log Loss=%.3f' % (avg_logloss))\n"
   ]
  },
  {
   "cell_type": "markdown",
   "id": "a6c035c2-58a8-487b-a8b0-48ebb1e09dab",
   "metadata": {},
   "source": [
    "## 3. FIXED CROSS-VALIDATION TECHNIQUE"
   ]
  },
  {
   "cell_type": "markdown",
   "id": "4b53c5ba-19e3-4743-876f-6c91bee42ca8",
   "metadata": {},
   "source": [
    "### Cross-validation using LinearDiscriminantAnalysis"
   ]
  },
  {
   "cell_type": "code",
   "execution_count": 246,
   "id": "21bee6dd-d928-4046-9f19-55c74ba43b56",
   "metadata": {},
   "outputs": [
    {
     "name": "stdout",
     "output_type": "stream",
     "text": [
      "Mean ROC AUC: 0.744\n"
     ]
    }
   ],
   "source": [
    "from sklearn.model_selection import cross_val_score\n",
    "from sklearn.model_selection import RepeatedStratifiedKFold, cross_val_predict\n",
    "\n",
    "\n",
    "model = LinearDiscriminantAnalysis()\n",
    "cv = RepeatedStratifiedKFold(n_splits=10, n_repeats=3, random_state=1)\n",
    "scores = cross_val_score(model, X_train_5, y_res, scoring='roc_auc', cv=cv, n_jobs=-1)\n",
    "print('Mean ROC AUC: %.3f' % np.mean(scores))"
   ]
  },
  {
   "cell_type": "code",
   "execution_count": 247,
   "id": "d169c53d-d81a-4a9e-986b-1cc12fbd0b96",
   "metadata": {},
   "outputs": [
    {
     "data": {
      "text/plain": [
       "array([0.76273238, 0.7719923 , 0.77343551, 0.75350608, 0.72391828,\n",
       "       0.70171855, 0.7240722 , 0.73730028, 0.73514542, 0.75228361,\n",
       "       0.73956193, 0.74347731, 0.753068  , 0.73520166, 0.75048691,\n",
       "       0.75085987, 0.74068943, 0.72529466, 0.74882341, 0.74919045,\n",
       "       0.76122647, 0.7434153 , 0.73606301, 0.75932833, 0.73584397,\n",
       "       0.74219606, 0.73857602, 0.75187514, 0.73179474, 0.73507142])"
      ]
     },
     "execution_count": 247,
     "metadata": {},
     "output_type": "execute_result"
    }
   ],
   "source": [
    "scores"
   ]
  },
  {
   "cell_type": "code",
   "execution_count": 251,
   "id": "204aaba6-f56a-4acc-b054-538d32165977",
   "metadata": {},
   "outputs": [],
   "source": [
    "# y_pred=model.fit(X_train_5, y_res).predict(X_test_5)"
   ]
  },
  {
   "cell_type": "code",
   "execution_count": 250,
   "id": "3cc7d9a1-d1db-4f5a-a783-918cc5cf6c38",
   "metadata": {},
   "outputs": [],
   "source": [
    "# confusion_matrix(true_label, y_pred)"
   ]
  },
  {
   "cell_type": "markdown",
   "id": "3eeda352-6625-4f13-9265-49d9a855d707",
   "metadata": {},
   "source": [
    "### Cross-validation using LogisticRegression"
   ]
  },
  {
   "cell_type": "code",
   "execution_count": 252,
   "id": "6a41efce-b177-4124-927f-971086d767c3",
   "metadata": {},
   "outputs": [
    {
     "name": "stdout",
     "output_type": "stream",
     "text": [
      "Mean ROC AUC: 0.743\n"
     ]
    }
   ],
   "source": [
    "from sklearn.model_selection import cross_val_score\n",
    "from sklearn.model_selection import RepeatedStratifiedKFold, cross_val_predict\n",
    "\n",
    "\n",
    "model = LogisticRegression(solver='lbfgs', class_weight='balanced')\n",
    "cv = RepeatedStratifiedKFold(n_splits=10, n_repeats=3, random_state=1)\n",
    "scores = cross_val_score(model, X_train_5, y_res, scoring='roc_auc', cv=cv, n_jobs=-1)\n",
    "print('Mean ROC AUC: %.3f' % np.mean(scores))"
   ]
  },
  {
   "cell_type": "code",
   "execution_count": 253,
   "id": "90f04824-f967-4c68-b5b6-a26a8b950107",
   "metadata": {},
   "outputs": [
    {
     "name": "stdout",
     "output_type": "stream",
     "text": [
      "Mean ROC AUC: 0.743\n"
     ]
    }
   ],
   "source": [
    "model = LogisticRegression(solver='lbfgs', class_weight={0:0.94, 1:0.06})\n",
    "cv = RepeatedStratifiedKFold(n_splits=10, n_repeats=3, random_state=1)\n",
    "scores = cross_val_score(model, X_train_5, y_res, scoring='roc_auc', cv=cv, n_jobs=-1)\n",
    "print('Mean ROC AUC: %.3f' % np.mean(scores))"
   ]
  },
  {
   "cell_type": "code",
   "execution_count": 254,
   "id": "09dd5c21-8b7d-442d-8f81-5994da29c2bd",
   "metadata": {},
   "outputs": [
    {
     "data": {
      "text/plain": [
       "array([0.76139182, 0.7713545 , 0.77459582, 0.75120323, 0.72087544,\n",
       "       0.69998402, 0.72497795, 0.73682076, 0.73500334, 0.74973804,\n",
       "       0.73899499, 0.74376668, 0.75109667, 0.73548582, 0.74738487,\n",
       "       0.74976468, 0.73915617, 0.72466715, 0.74707112, 0.74929701,\n",
       "       0.76064772, 0.74260034, 0.73550654, 0.75714979, 0.73468959,\n",
       "       0.74100023, 0.73814979, 0.75047803, 0.73049236, 0.73570486])"
      ]
     },
     "execution_count": 254,
     "metadata": {},
     "output_type": "execute_result"
    }
   ],
   "source": [
    "scores"
   ]
  },
  {
   "cell_type": "code",
   "execution_count": null,
   "id": "33b44f04-4714-4701-981d-2c6c4e7059fc",
   "metadata": {},
   "outputs": [],
   "source": []
  },
  {
   "cell_type": "code",
   "execution_count": 255,
   "id": "02473599-faa6-442e-8075-b9f6b13c3330",
   "metadata": {},
   "outputs": [
    {
     "name": "stdout",
     "output_type": "stream",
     "text": [
      "Best: 0.743371 using {'class_weight': {0: 1, 1: 1}}\n",
      "0.742396 (0.014801) with: {'class_weight': {0: 100, 1: 1}}\n",
      "0.742765 (0.014777) with: {'class_weight': {0: 10, 1: 1}}\n",
      "0.743371 (0.014688) with: {'class_weight': {0: 1, 1: 1}}\n",
      "0.742224 (0.014417) with: {'class_weight': {0: 1, 1: 10}}\n",
      "0.740506 (0.014348) with: {'class_weight': {0: 1, 1: 100}}\n"
     ]
    }
   ],
   "source": [
    "balance = [{0:100,1:1}, {0:10,1:1}, {0:1,1:1}, {0:1,1:10}, {0:1,1:100}]\n",
    "param_grid = dict(class_weight=balance)\n",
    "cv = RepeatedStratifiedKFold(n_splits=10, n_repeats=3, random_state=1)\n",
    "grid = GridSearchCV(estimator=model, param_grid=param_grid, n_jobs=-1, cv=cv,\n",
    "scoring='roc_auc')\n",
    "grid_result = grid.fit(X_train_5, y_res)\n",
    "print('Best: %f using %s' % (grid_result.best_score_, grid_result.best_params_))\n",
    "\n",
    "\n",
    "means = grid_result.cv_results_['mean_test_score']\n",
    "stds = grid_result.cv_results_['std_test_score']\n",
    "params = grid_result.cv_results_['params']\n",
    "for mean, stdev, param in zip(means, stds, params):\n",
    "    print('%f (%f) with: %r' % (mean, stdev, param))"
   ]
  },
  {
   "cell_type": "code",
   "execution_count": 262,
   "id": "0dcb5098-0e9f-4b66-b9b7-d708e870de4f",
   "metadata": {},
   "outputs": [],
   "source": [
    "# pca = PCA(n_components=10)\n",
    "# X_train_10 = pca.fit_transform(X_res)\n",
    "# X_test_10 = pca.transform(testset.iloc[:,1:])\n",
    "model = LogisticRegression(solver='lbfgs', class_weight={0:1, 1:1})\n",
    "model.fit(X_train_5, y_res)\n",
    "y_pred = model.predict(X_test_5)\n",
    "y_proba2 = model.predict_proba(X_test_5)\n",
    "results = pd.DataFrame({'Target':y_pred, \"Probability\":y_proba2[:,1]})\n",
    "results['true_label'] = true_label.values\n",
    "# results['true_label'] = results['true_label'].apply(lambda x: 1 if x=='insurance' else 0)\n",
    "results.sort_values(by=['Target', 'Probability'], ascending=[False, False], inplace=True)\n",
    "# results.to_csv('Model_2_LinearDiscriminantAnalysis_w_PCA_all.csv')\n",
    "# results.head(800).to_csv('Model_2_LinearDiscriminantAnalysis_w_PCA_first_800.csv')"
   ]
  },
  {
   "cell_type": "code",
   "execution_count": 263,
   "id": "d9cd76ab-bb1d-4258-b2f6-9983cdd0bc6b",
   "metadata": {},
   "outputs": [
    {
     "data": {
      "text/plain": [
       "array([[2443, 1319],\n",
       "       [  92,  146]], dtype=int64)"
      ]
     },
     "execution_count": 263,
     "metadata": {},
     "output_type": "execute_result"
    }
   ],
   "source": [
    "confusion_matrix(true_label, y_pred)"
   ]
  },
  {
   "cell_type": "code",
   "execution_count": 264,
   "id": "0c19c493-1151-4e10-8324-dade51dff808",
   "metadata": {},
   "outputs": [
    {
     "data": {
      "text/plain": [
       "0.631417000612047"
      ]
     },
     "execution_count": 264,
     "metadata": {},
     "output_type": "execute_result"
    }
   ],
   "source": [
    "roc_auc_score(true_label, y_pred, average='micro')"
   ]
  },
  {
   "cell_type": "code",
   "execution_count": 265,
   "id": "3c84d186-aced-49e6-9cbe-9951ee3fe71e",
   "metadata": {},
   "outputs": [
    {
     "name": "stdout",
     "output_type": "stream",
     "text": [
      "              precision    recall  f1-score   support\n",
      "\n",
      "           0       0.96      0.65      0.78      3762\n",
      "           1       0.10      0.61      0.17       238\n",
      "\n",
      "    accuracy                           0.65      4000\n",
      "   macro avg       0.53      0.63      0.47      4000\n",
      "weighted avg       0.91      0.65      0.74      4000\n",
      "\n"
     ]
    }
   ],
   "source": [
    "print(classification_report(true_label, y_pred))"
   ]
  },
  {
   "cell_type": "code",
   "execution_count": 266,
   "id": "d0512dfa-2618-4903-ad3d-6599f8a13375",
   "metadata": {},
   "outputs": [
    {
     "name": "stdout",
     "output_type": "stream",
     "text": [
      "With PCA apply after SMOTE combined CROSS-VALIDATION with LR and LDA 146 cases, account for 61.34% of positive cases, were correctly predicted from testset\n"
     ]
    }
   ],
   "source": [
    "print(f'With PCA apply after SMOTE combined CROSS-VALIDATION with LR and LDA {confusion_matrix(true_label, y_pred)[1,1] } cases, account for {np.round(confusion_matrix(true_label, y_pred)[1,1]/true_label.sum()*100,2)}% of positive cases, were correctly predicted from testset')"
   ]
  },
  {
   "cell_type": "code",
   "execution_count": 267,
   "id": "a2e71460-fe32-468f-9a2d-d54ca8daf7d3",
   "metadata": {},
   "outputs": [],
   "source": [
    "fpr2, tpr2, _2 = roc_curve(true_label, y_proba2[:,1])"
   ]
  },
  {
   "cell_type": "code",
   "execution_count": 268,
   "id": "b2826ec1-f251-4240-b495-4d2b2c2db00b",
   "metadata": {},
   "outputs": [
    {
     "data": {
      "text/plain": [
       "<matplotlib.legend.Legend at 0x15faa8f4940>"
      ]
     },
     "execution_count": 268,
     "metadata": {},
     "output_type": "execute_result"
    },
    {
     "data": {
      "image/png": "[encoded data removed]",
      "text/plain": [
       "<Figure size 640x480 with 1 Axes>"
      ]
     },
     "metadata": {},
     "output_type": "display_data"
    }
   ],
   "source": [
    "# fpr1, tpr1, _1 = roc_curve(true_label, y_proba1[:,1])\n",
    "plt.plot(fpr1, tpr1, marker='.', label='SMOTE + PCA', linewidth=1, color='orange', markersize=0.5)\n",
    "plt.plot(fpr0, tpr0, marker='.', label='SMOTE ONLY', linewidth=1, color='green', markersize=0.5)\n",
    "plt.plot(fpr2, tpr2, marker='.', label='LR_classweight + SMOTE + PCA', linewidth=1, color='b', markersize=0.5, alpha=0.3)\n",
    "plt.plot([0, 1], [0, 1], linestyle='--', label='No Skill')\n",
    "plt.xlabel('False Positive Rate')\n",
    "plt.ylabel('True Positive Rate')\n",
    "plt.legend()"
   ]
  },
  {
   "cell_type": "markdown",
   "id": "1755215c-3839-4f08-a217-a68eadd57287",
   "metadata": {},
   "source": [
    "## MOVING THRESHOLD"
   ]
  },
  {
   "cell_type": "code",
   "execution_count": 282,
   "id": "7b27ccc0-7646-4fc4-83fe-873a59eb7a23",
   "metadata": {},
   "outputs": [],
   "source": [
    "import warnings\n",
    "warnings.filterwarnings(\"ignore\")\n",
    "\n",
    "model = LogisticRegression(solver='lbfgs', class_weight={0:1, 1:1})\n",
    "model.fit(X_train_5, y_res)\n",
    "y_pred_ = model.predict(X_test_5)\n",
    "probs = model.predict_proba(X_test_5)\n",
    "pos_probs = probs[:,1]\n",
    "\n",
    "thresholds = np.arange(0,100,0.05)\n",
    "\n",
    "def labels(pos_prob, threshold):\n",
    "    return (pos_prob>threshold).astype('int')\n",
    "\n",
    "f1_scores = [f1_score(true_label, labels(pos_probs, threshold)) for threshold in thresholds]\n",
    "recall_scores = [recall_score(true_label, labels(pos_probs, threshold)) for threshold in thresholds]\n",
    "precision_scores =[precision_score(true_label, labels(pos_probs, threshold)) for threshold in thresholds]\n",
    "accuracy_scores  = [accuracy_score(true_label, labels(pos_probs, threshold)) for threshold in thresholds]\n",
    "TPs = [confusion_matrix(true_label, labels(pos_probs, threshold))[1,1] for threshold in thresholds]\n",
    "FNs = [confusion_matrix(true_label, labels(pos_probs, threshold))[1,0] for threshold in thresholds]\n",
    "FPs = [confusion_matrix(true_label, labels(pos_probs, threshold))[0,1] for threshold in thresholds]\n",
    "# FNs = [confusion_matrix(true_label, labels(pos_probs, threshold))[1,0] for threshold in thresholds]\n",
    "\n",
    "\n",
    "\n"
   ]
  },
  {
   "cell_type": "code",
   "execution_count": null,
   "id": "dc42014d-b1b2-4edf-bd68-7a4c49987f55",
   "metadata": {},
   "outputs": [],
   "source": []
  },
  {
   "cell_type": "code",
   "execution_count": 283,
   "id": "65bb53d8-af83-44ad-a7d1-fd59d7e74edc",
   "metadata": {},
   "outputs": [],
   "source": [
    "theshold_moving_results = pd.DataFrame({'Threshold': thresholds,\n",
    "                                       'f1_score': f1_scores,\n",
    "                                       'recall_score':recall_scores,\n",
    "                                       'precision_scores':precision_scores,\n",
    "                                       'accuracy_scores':accuracy_scores,\n",
    "                                       'True Positive':TPs,\n",
    "                                       'False Negative': FNs,\n",
    "                                       'False Positive': FPs})\n",
    "theshold_moving_results.to_csv('Models_summary/theshold_moving_results.csv')"
   ]
  },
  {
   "cell_type": "code",
   "execution_count": null,
   "id": "53184521-ec87-4b63-9182-e847fc796a99",
   "metadata": {},
   "outputs": [],
   "source": [
    "# theshold_moving_results[theshold_moving_results['True Positive']==theshold_moving_results['True Positive'].max()]"
   ]
  },
  {
   "cell_type": "code",
   "execution_count": 272,
   "id": "3589bc68-cac7-4c71-8931-2e37300765c1",
   "metadata": {},
   "outputs": [
    {
     "name": "stdout",
     "output_type": "stream",
     "text": [
      "[[1925 1837]\n",
      " [  54  184]]\n"
     ]
    }
   ],
   "source": [
    "y_pred = labels(pos_probs, 0.4)\n",
    "print(confusion_matrix(true_label, y_pred))\n",
    "fpr_04 = confusion_matrix(true_label, y_pred)[0,1]\n",
    "tpr_04 = confusion_matrix(true_label, y_pred)[1,1]"
   ]
  },
  {
   "cell_type": "code",
   "execution_count": 274,
   "id": "fa0203cc-1c6f-4395-b3ac-8290dccc6b56",
   "metadata": {},
   "outputs": [
    {
     "name": "stdout",
     "output_type": "stream",
     "text": [
      "[[1648 2114]\n",
      " [  43  195]]\n"
     ]
    }
   ],
   "source": [
    "y_pred = labels(pos_probs, 0.35)\n",
    "print(confusion_matrix(true_label, y_pred))\n",
    "fpr_035 = confusion_matrix(true_label, y_pred)[0,1]\n",
    "tpr_035 = confusion_matrix(true_label, y_pred)[1,1]"
   ]
  },
  {
   "cell_type": "code",
   "execution_count": 275,
   "id": "d4cfef6d-2491-458c-9072-1e8a84e9256d",
   "metadata": {},
   "outputs": [
    {
     "name": "stdout",
     "output_type": "stream",
     "text": [
      "[[1384 2378]\n",
      " [  34  204]]\n"
     ]
    }
   ],
   "source": [
    "y_pred = labels(pos_probs, 0.3)\n",
    "print(confusion_matrix(true_label, y_pred))\n",
    "fpr_03 = confusion_matrix(true_label, y_pred)[0,1]\n",
    "tpr_03 = confusion_matrix(true_label, y_pred)[1,1]"
   ]
  },
  {
   "cell_type": "code",
   "execution_count": 276,
   "id": "310c0fd4-cb8d-42b5-8c9d-897746a04296",
   "metadata": {},
   "outputs": [
    {
     "name": "stdout",
     "output_type": "stream",
     "text": [
      "[[1037 2725]\n",
      " [  21  217]]\n"
     ]
    }
   ],
   "source": [
    "y_pred = labels(pos_probs, 0.25)\n",
    "print(confusion_matrix(true_label, y_pred))\n",
    "fpr_025 = confusion_matrix(true_label, y_pred)[0,1]\n",
    "tpr_025 = confusion_matrix(true_label, y_pred)[1,1]"
   ]
  },
  {
   "cell_type": "code",
   "execution_count": 277,
   "id": "c5de88f1-792b-46e0-b388-5f56aad26192",
   "metadata": {},
   "outputs": [
    {
     "name": "stdout",
     "output_type": "stream",
     "text": [
      "[[ 647 3115]\n",
      " [  10  228]]\n"
     ]
    }
   ],
   "source": [
    "y_pred = labels(pos_probs, 0.2)\n",
    "print(confusion_matrix(true_label, y_pred))\n",
    "fpr_02 = confusion_matrix(true_label, y_pred)[0,1]\n",
    "tpr_02 = confusion_matrix(true_label, y_pred)[1,1]"
   ]
  },
  {
   "cell_type": "code",
   "execution_count": 284,
   "id": "57e45ff8-c5ff-4e97-9a4c-c93f50285160",
   "metadata": {},
   "outputs": [
    {
     "data": {
      "text/html": [
       "<div>\n",
       "<style scoped>\n",
       "    .dataframe tbody tr th:only-of-type {\n",
       "        vertical-align: middle;\n",
       "    }\n",
       "\n",
       "    .dataframe tbody tr th {\n",
       "        vertical-align: top;\n",
       "    }\n",
       "\n",
       "    .dataframe thead th {\n",
       "        text-align: right;\n",
       "    }\n",
       "</style>\n",
       "<table border=\"1\" class=\"dataframe\">\n",
       "  <thead>\n",
       "    <tr style=\"text-align: right;\">\n",
       "      <th></th>\n",
       "      <th>Threshold</th>\n",
       "      <th>f1_score</th>\n",
       "      <th>recall_score</th>\n",
       "      <th>precision_scores</th>\n",
       "      <th>accuracy_scores</th>\n",
       "      <th>True Positive</th>\n",
       "      <th>False Negative</th>\n",
       "      <th>False Positive</th>\n",
       "    </tr>\n",
       "  </thead>\n",
       "  <tbody>\n",
       "    <tr>\n",
       "      <th>0</th>\n",
       "      <td>0.00</td>\n",
       "      <td>0.112317</td>\n",
       "      <td>1.000000</td>\n",
       "      <td>0.059500</td>\n",
       "      <td>0.05950</td>\n",
       "      <td>238</td>\n",
       "      <td>0</td>\n",
       "      <td>3762</td>\n",
       "    </tr>\n",
       "    <tr>\n",
       "      <th>1</th>\n",
       "      <td>0.05</td>\n",
       "      <td>0.112423</td>\n",
       "      <td>1.000000</td>\n",
       "      <td>0.059560</td>\n",
       "      <td>0.06050</td>\n",
       "      <td>238</td>\n",
       "      <td>0</td>\n",
       "      <td>3758</td>\n",
       "    </tr>\n",
       "    <tr>\n",
       "      <th>2</th>\n",
       "      <td>0.10</td>\n",
       "      <td>0.112595</td>\n",
       "      <td>0.991597</td>\n",
       "      <td>0.059686</td>\n",
       "      <td>0.07000</td>\n",
       "      <td>236</td>\n",
       "      <td>2</td>\n",
       "      <td>3718</td>\n",
       "    </tr>\n",
       "    <tr>\n",
       "      <th>3</th>\n",
       "      <td>0.15</td>\n",
       "      <td>0.117706</td>\n",
       "      <td>0.978992</td>\n",
       "      <td>0.062618</td>\n",
       "      <td>0.12675</td>\n",
       "      <td>233</td>\n",
       "      <td>5</td>\n",
       "      <td>3488</td>\n",
       "    </tr>\n",
       "    <tr>\n",
       "      <th>4</th>\n",
       "      <td>0.20</td>\n",
       "      <td>0.127339</td>\n",
       "      <td>0.957983</td>\n",
       "      <td>0.068202</td>\n",
       "      <td>0.21875</td>\n",
       "      <td>228</td>\n",
       "      <td>10</td>\n",
       "      <td>3115</td>\n",
       "    </tr>\n",
       "    <tr>\n",
       "      <th>5</th>\n",
       "      <td>0.25</td>\n",
       "      <td>0.136478</td>\n",
       "      <td>0.911765</td>\n",
       "      <td>0.073759</td>\n",
       "      <td>0.31350</td>\n",
       "      <td>217</td>\n",
       "      <td>21</td>\n",
       "      <td>2725</td>\n",
       "    </tr>\n",
       "    <tr>\n",
       "      <th>6</th>\n",
       "      <td>0.30</td>\n",
       "      <td>0.144681</td>\n",
       "      <td>0.857143</td>\n",
       "      <td>0.079009</td>\n",
       "      <td>0.39700</td>\n",
       "      <td>204</td>\n",
       "      <td>34</td>\n",
       "      <td>2378</td>\n",
       "    </tr>\n",
       "    <tr>\n",
       "      <th>7</th>\n",
       "      <td>0.35</td>\n",
       "      <td>0.153121</td>\n",
       "      <td>0.819328</td>\n",
       "      <td>0.084452</td>\n",
       "      <td>0.46075</td>\n",
       "      <td>195</td>\n",
       "      <td>43</td>\n",
       "      <td>2114</td>\n",
       "    </tr>\n",
       "    <tr>\n",
       "      <th>8</th>\n",
       "      <td>0.40</td>\n",
       "      <td>0.162904</td>\n",
       "      <td>0.773109</td>\n",
       "      <td>0.091044</td>\n",
       "      <td>0.52725</td>\n",
       "      <td>184</td>\n",
       "      <td>54</td>\n",
       "      <td>1837</td>\n",
       "    </tr>\n",
       "    <tr>\n",
       "      <th>9</th>\n",
       "      <td>0.45</td>\n",
       "      <td>0.170277</td>\n",
       "      <td>0.710084</td>\n",
       "      <td>0.096737</td>\n",
       "      <td>0.58825</td>\n",
       "      <td>169</td>\n",
       "      <td>69</td>\n",
       "      <td>1578</td>\n",
       "    </tr>\n",
       "    <tr>\n",
       "      <th>10</th>\n",
       "      <td>0.50</td>\n",
       "      <td>0.171462</td>\n",
       "      <td>0.613445</td>\n",
       "      <td>0.099659</td>\n",
       "      <td>0.64725</td>\n",
       "      <td>146</td>\n",
       "      <td>92</td>\n",
       "      <td>1319</td>\n",
       "    </tr>\n",
       "    <tr>\n",
       "      <th>11</th>\n",
       "      <td>0.55</td>\n",
       "      <td>0.168658</td>\n",
       "      <td>0.504202</td>\n",
       "      <td>0.101266</td>\n",
       "      <td>0.70425</td>\n",
       "      <td>120</td>\n",
       "      <td>118</td>\n",
       "      <td>1065</td>\n",
       "    </tr>\n",
       "    <tr>\n",
       "      <th>12</th>\n",
       "      <td>0.60</td>\n",
       "      <td>0.187279</td>\n",
       "      <td>0.445378</td>\n",
       "      <td>0.118568</td>\n",
       "      <td>0.77000</td>\n",
       "      <td>106</td>\n",
       "      <td>132</td>\n",
       "      <td>788</td>\n",
       "    </tr>\n",
       "    <tr>\n",
       "      <th>13</th>\n",
       "      <td>0.65</td>\n",
       "      <td>0.202067</td>\n",
       "      <td>0.369748</td>\n",
       "      <td>0.139021</td>\n",
       "      <td>0.82625</td>\n",
       "      <td>88</td>\n",
       "      <td>150</td>\n",
       "      <td>545</td>\n",
       "    </tr>\n",
       "    <tr>\n",
       "      <th>14</th>\n",
       "      <td>0.70</td>\n",
       "      <td>0.218798</td>\n",
       "      <td>0.298319</td>\n",
       "      <td>0.172749</td>\n",
       "      <td>0.87325</td>\n",
       "      <td>71</td>\n",
       "      <td>167</td>\n",
       "      <td>340</td>\n",
       "    </tr>\n",
       "    <tr>\n",
       "      <th>15</th>\n",
       "      <td>0.75</td>\n",
       "      <td>0.206897</td>\n",
       "      <td>0.201681</td>\n",
       "      <td>0.212389</td>\n",
       "      <td>0.90800</td>\n",
       "      <td>48</td>\n",
       "      <td>190</td>\n",
       "      <td>178</td>\n",
       "    </tr>\n",
       "    <tr>\n",
       "      <th>16</th>\n",
       "      <td>0.80</td>\n",
       "      <td>0.103560</td>\n",
       "      <td>0.067227</td>\n",
       "      <td>0.225352</td>\n",
       "      <td>0.93075</td>\n",
       "      <td>16</td>\n",
       "      <td>222</td>\n",
       "      <td>55</td>\n",
       "    </tr>\n",
       "    <tr>\n",
       "      <th>17</th>\n",
       "      <td>0.85</td>\n",
       "      <td>0.016129</td>\n",
       "      <td>0.008403</td>\n",
       "      <td>0.200000</td>\n",
       "      <td>0.93900</td>\n",
       "      <td>2</td>\n",
       "      <td>236</td>\n",
       "      <td>8</td>\n",
       "    </tr>\n",
       "    <tr>\n",
       "      <th>18</th>\n",
       "      <td>0.90</td>\n",
       "      <td>0.000000</td>\n",
       "      <td>0.000000</td>\n",
       "      <td>0.000000</td>\n",
       "      <td>0.94050</td>\n",
       "      <td>0</td>\n",
       "      <td>238</td>\n",
       "      <td>0</td>\n",
       "    </tr>\n",
       "    <tr>\n",
       "      <th>19</th>\n",
       "      <td>0.95</td>\n",
       "      <td>0.000000</td>\n",
       "      <td>0.000000</td>\n",
       "      <td>0.000000</td>\n",
       "      <td>0.94050</td>\n",
       "      <td>0</td>\n",
       "      <td>238</td>\n",
       "      <td>0</td>\n",
       "    </tr>\n",
       "  </tbody>\n",
       "</table>\n",
       "</div>"
      ],
      "text/plain": [
       "    Threshold  f1_score  recall_score  precision_scores  accuracy_scores  \\\n",
       "0        0.00  0.112317      1.000000          0.059500          0.05950   \n",
       "1        0.05  0.112423      1.000000          0.059560          0.06050   \n",
       "2        0.10  0.112595      0.991597          0.059686          0.07000   \n",
       "3        0.15  0.117706      0.978992          0.062618          0.12675   \n",
       "4        0.20  0.127339      0.957983          0.068202          0.21875   \n",
       "5        0.25  0.136478      0.911765          0.073759          0.31350   \n",
       "6        0.30  0.144681      0.857143          0.079009          0.39700   \n",
       "7        0.35  0.153121      0.819328          0.084452          0.46075   \n",
       "8        0.40  0.162904      0.773109          0.091044          0.52725   \n",
       "9        0.45  0.170277      0.710084          0.096737          0.58825   \n",
       "10       0.50  0.171462      0.613445          0.099659          0.64725   \n",
       "11       0.55  0.168658      0.504202          0.101266          0.70425   \n",
       "12       0.60  0.187279      0.445378          0.118568          0.77000   \n",
       "13       0.65  0.202067      0.369748          0.139021          0.82625   \n",
       "14       0.70  0.218798      0.298319          0.172749          0.87325   \n",
       "15       0.75  0.206897      0.201681          0.212389          0.90800   \n",
       "16       0.80  0.103560      0.067227          0.225352          0.93075   \n",
       "17       0.85  0.016129      0.008403          0.200000          0.93900   \n",
       "18       0.90  0.000000      0.000000          0.000000          0.94050   \n",
       "19       0.95  0.000000      0.000000          0.000000          0.94050   \n",
       "\n",
       "    True Positive  False Negative  False Positive  \n",
       "0             238               0            3762  \n",
       "1             238               0            3758  \n",
       "2             236               2            3718  \n",
       "3             233               5            3488  \n",
       "4             228              10            3115  \n",
       "5             217              21            2725  \n",
       "6             204              34            2378  \n",
       "7             195              43            2114  \n",
       "8             184              54            1837  \n",
       "9             169              69            1578  \n",
       "10            146              92            1319  \n",
       "11            120             118            1065  \n",
       "12            106             132             788  \n",
       "13             88             150             545  \n",
       "14             71             167             340  \n",
       "15             48             190             178  \n",
       "16             16             222              55  \n",
       "17              2             236               8  \n",
       "18              0             238               0  \n",
       "19              0             238               0  "
      ]
     },
     "execution_count": 284,
     "metadata": {},
     "output_type": "execute_result"
    }
   ],
   "source": [
    "theshold_moving_results.head(20)"
   ]
  },
  {
   "cell_type": "markdown",
   "id": "0470bfe2-f85b-4c48-a5c4-75667e8085f3",
   "metadata": {},
   "source": [
    "# Conclusion"
   ]
  },
  {
   "cell_type": "markdown",
   "id": "dbcc6c22-9693-486b-ab5b-69ce0fd4399f",
   "metadata": {},
   "source": [
    "- LinearDiscriminant after SMOTE and PCA are the simplest and opimal model for prediction with highest recall_score - 0.69 and 155 true positive cases out of total 238 true positive cases.\n",
    "- Logistic Regression model for Threshold tuning give better result with list of all possiple cases for us choosing the most suitable threshold depend on our loss cost calculation from false positive cases and false negative cases predicted."
   ]
  },
  {
   "cell_type": "code",
   "execution_count": null,
   "id": "f00fe88a-66fe-4538-96fa-7f03497757c7",
   "metadata": {},
   "outputs": [],
   "source": []
  }
 ],
 "metadata": {
  "kernelspec": {
   "display_name": "Python 3 (ipykernel)",
   "language": "python",
   "name": "python3"
  },
  "language_info": {
   "codemirror_mode": {
    "name": "ipython",
    "version": 3
   },
   "file_extension": ".py",
   "mimetype": "text/x-python",
   "name": "python",
   "nbconvert_exporter": "python",
   "pygments_lexer": "ipython3",
   "version": "3.7.0"
  }
 },
 "nbformat": 4,
 "nbformat_minor": 5
}
